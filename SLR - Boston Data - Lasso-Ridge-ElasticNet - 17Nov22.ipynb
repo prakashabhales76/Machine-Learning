{
 "cells": [
  {
   "cell_type": "code",
   "execution_count": 2,
   "id": "96ade6bf",
   "metadata": {},
   "outputs": [],
   "source": [
    "import pandas as pd\n",
    "import numpy as np\n",
    "import matplotlib.pyplot as plt\n",
    "import seaborn as sns"
   ]
  },
  {
   "cell_type": "code",
   "execution_count": 3,
   "id": "cec8830a",
   "metadata": {},
   "outputs": [
    {
     "name": "stderr",
     "output_type": "stream",
     "text": [
      "C:\\Users\\ClassRoom 2\\anaconda3\\lib\\site-packages\\sklearn\\utils\\deprecation.py:87: FutureWarning: Function load_boston is deprecated; `load_boston` is deprecated in 1.0 and will be removed in 1.2.\n",
      "\n",
      "    The Boston housing prices dataset has an ethical problem. You can refer to\n",
      "    the documentation of this function for further details.\n",
      "\n",
      "    The scikit-learn maintainers therefore strongly discourage the use of this\n",
      "    dataset unless the purpose of the code is to study and educate about\n",
      "    ethical issues in data science and machine learning.\n",
      "\n",
      "    In this special case, you can fetch the dataset from the original\n",
      "    source::\n",
      "\n",
      "        import pandas as pd\n",
      "        import numpy as np\n",
      "\n",
      "\n",
      "        data_url = \"http://lib.stat.cmu.edu/datasets/boston\"\n",
      "        raw_df = pd.read_csv(data_url, sep=\"\\s+\", skiprows=22, header=None)\n",
      "        data = np.hstack([raw_df.values[::2, :], raw_df.values[1::2, :2]])\n",
      "        target = raw_df.values[1::2, 2]\n",
      "\n",
      "    Alternative datasets include the California housing dataset (i.e.\n",
      "    :func:`~sklearn.datasets.fetch_california_housing`) and the Ames housing\n",
      "    dataset. You can load the datasets as follows::\n",
      "\n",
      "        from sklearn.datasets import fetch_california_housing\n",
      "        housing = fetch_california_housing()\n",
      "\n",
      "    for the California housing dataset and::\n",
      "\n",
      "        from sklearn.datasets import fetch_openml\n",
      "        housing = fetch_openml(name=\"house_prices\", as_frame=True)\n",
      "\n",
      "    for the Ames housing dataset.\n",
      "    \n",
      "  warnings.warn(msg, category=FutureWarning)\n"
     ]
    }
   ],
   "source": [
    "from sklearn.datasets import load_boston\n",
    "boston = load_boston()\n",
    "y = boston.target\n",
    "bos = pd.DataFrame(boston.data, columns=boston.feature_names)\n",
    "bos['price'] = y"
   ]
  },
  {
   "cell_type": "code",
   "execution_count": 4,
   "id": "bd3d964c",
   "metadata": {},
   "outputs": [],
   "source": [
    "bos = bos.sample(frac=1, random_state=4).reset_index(drop=True)"
   ]
  },
  {
   "cell_type": "code",
   "execution_count": 5,
   "id": "2f1cbd7f",
   "metadata": {},
   "outputs": [],
   "source": [
    "y = bos['price']\n",
    "X = bos.drop('price', axis=1)"
   ]
  },
  {
   "cell_type": "code",
   "execution_count": 6,
   "id": "b2de2e28",
   "metadata": {},
   "outputs": [],
   "source": [
    "cols=list(X.columns)\n",
    "cols.remove('CHAS')\n",
    "for col in cols:\n",
    "    X[col+'_2'] = X[col]**2"
   ]
  },
  {
   "cell_type": "code",
   "execution_count": 7,
   "id": "6a8f3623",
   "metadata": {},
   "outputs": [
    {
     "data": {
      "text/plain": [
       "Index(['CRIM', 'ZN', 'INDUS', 'CHAS', 'NOX', 'RM', 'AGE', 'DIS', 'RAD', 'TAX',\n",
       "       'PTRATIO', 'B', 'LSTAT', 'CRIM_2', 'ZN_2', 'INDUS_2', 'NOX_2', 'RM_2',\n",
       "       'AGE_2', 'DIS_2', 'RAD_2', 'TAX_2', 'PTRATIO_2', 'B_2', 'LSTAT_2'],\n",
       "      dtype='object')"
      ]
     },
     "execution_count": 7,
     "metadata": {},
     "output_type": "execute_result"
    }
   ],
   "source": [
    "X.columns"
   ]
  },
  {
   "cell_type": "code",
   "execution_count": 8,
   "id": "85a8cdbe",
   "metadata": {},
   "outputs": [],
   "source": [
    "from sklearn.preprocessing import StandardScaler\n",
    "ss = StandardScaler()\n",
    "Xs = ss.fit_transform(X)"
   ]
  },
  {
   "cell_type": "code",
   "execution_count": 10,
   "id": "9f87bff7",
   "metadata": {},
   "outputs": [],
   "source": [
    "from sklearn.model_selection import train_test_split\n",
    "X_train, X_test, y_train, y_test = train_test_split(X, y, test_size=0.3, random_state=42)\n",
    "\n",
    "ss = StandardScaler()\n",
    "X_trains = ss.fit_transform(X_train)\n",
    "X_tests = ss.transform(X_test)\n",
    "\n",
    "X_trains = pd.DataFrame(X_trains, columns=X.columns)\n",
    "X_tests = pd.DataFrame(X_tests, columns=X.columns)"
   ]
  },
  {
   "cell_type": "markdown",
   "id": "3ac96442",
   "metadata": {},
   "source": [
    "### Lasso Regression"
   ]
  },
  {
   "cell_type": "code",
   "execution_count": 14,
   "id": "961d65e9",
   "metadata": {},
   "outputs": [
    {
     "data": {
      "text/html": [
       "<div>\n",
       "<style scoped>\n",
       "    .dataframe tbody tr th:only-of-type {\n",
       "        vertical-align: middle;\n",
       "    }\n",
       "\n",
       "    .dataframe tbody tr th {\n",
       "        vertical-align: top;\n",
       "    }\n",
       "\n",
       "    .dataframe thead th {\n",
       "        text-align: right;\n",
       "    }\n",
       "</style>\n",
       "<table border=\"1\" class=\"dataframe\">\n",
       "  <thead>\n",
       "    <tr style=\"text-align: right;\">\n",
       "      <th></th>\n",
       "      <th>coefts</th>\n",
       "    </tr>\n",
       "  </thead>\n",
       "  <tbody>\n",
       "    <tr>\n",
       "      <th>CRIM</th>\n",
       "      <td>-2.739667</td>\n",
       "    </tr>\n",
       "    <tr>\n",
       "      <th>ZN</th>\n",
       "      <td>-0.535050</td>\n",
       "    </tr>\n",
       "    <tr>\n",
       "      <th>INDUS</th>\n",
       "      <td>-0.723201</td>\n",
       "    </tr>\n",
       "    <tr>\n",
       "      <th>CHAS</th>\n",
       "      <td>0.620838</td>\n",
       "    </tr>\n",
       "    <tr>\n",
       "      <th>NOX</th>\n",
       "      <td>-0.000000</td>\n",
       "    </tr>\n",
       "    <tr>\n",
       "      <th>RM</th>\n",
       "      <td>-12.256092</td>\n",
       "    </tr>\n",
       "    <tr>\n",
       "      <th>AGE</th>\n",
       "      <td>-0.000000</td>\n",
       "    </tr>\n",
       "    <tr>\n",
       "      <th>DIS</th>\n",
       "      <td>-4.737558</td>\n",
       "    </tr>\n",
       "    <tr>\n",
       "      <th>RAD</th>\n",
       "      <td>3.001063</td>\n",
       "    </tr>\n",
       "    <tr>\n",
       "      <th>TAX</th>\n",
       "      <td>-2.042955</td>\n",
       "    </tr>\n",
       "    <tr>\n",
       "      <th>PTRATIO</th>\n",
       "      <td>-2.307657</td>\n",
       "    </tr>\n",
       "    <tr>\n",
       "      <th>B</th>\n",
       "      <td>1.751628</td>\n",
       "    </tr>\n",
       "    <tr>\n",
       "      <th>LSTAT</th>\n",
       "      <td>-9.303444</td>\n",
       "    </tr>\n",
       "    <tr>\n",
       "      <th>CRIM_2</th>\n",
       "      <td>1.172521</td>\n",
       "    </tr>\n",
       "    <tr>\n",
       "      <th>ZN_2</th>\n",
       "      <td>0.844443</td>\n",
       "    </tr>\n",
       "    <tr>\n",
       "      <th>INDUS_2</th>\n",
       "      <td>0.934043</td>\n",
       "    </tr>\n",
       "    <tr>\n",
       "      <th>NOX_2</th>\n",
       "      <td>-2.090527</td>\n",
       "    </tr>\n",
       "    <tr>\n",
       "      <th>RM_2</th>\n",
       "      <td>14.715204</td>\n",
       "    </tr>\n",
       "    <tr>\n",
       "      <th>AGE_2</th>\n",
       "      <td>0.113319</td>\n",
       "    </tr>\n",
       "    <tr>\n",
       "      <th>DIS_2</th>\n",
       "      <td>2.310621</td>\n",
       "    </tr>\n",
       "    <tr>\n",
       "      <th>RAD_2</th>\n",
       "      <td>-0.000000</td>\n",
       "    </tr>\n",
       "    <tr>\n",
       "      <th>TAX_2</th>\n",
       "      <td>0.000000</td>\n",
       "    </tr>\n",
       "    <tr>\n",
       "      <th>PTRATIO_2</th>\n",
       "      <td>0.588141</td>\n",
       "    </tr>\n",
       "    <tr>\n",
       "      <th>B_2</th>\n",
       "      <td>-1.212184</td>\n",
       "    </tr>\n",
       "    <tr>\n",
       "      <th>LSTAT_2</th>\n",
       "      <td>5.259645</td>\n",
       "    </tr>\n",
       "  </tbody>\n",
       "</table>\n",
       "</div>"
      ],
      "text/plain": [
       "              coefts\n",
       "CRIM       -2.739667\n",
       "ZN         -0.535050\n",
       "INDUS      -0.723201\n",
       "CHAS        0.620838\n",
       "NOX        -0.000000\n",
       "RM        -12.256092\n",
       "AGE        -0.000000\n",
       "DIS        -4.737558\n",
       "RAD         3.001063\n",
       "TAX        -2.042955\n",
       "PTRATIO    -2.307657\n",
       "B           1.751628\n",
       "LSTAT      -9.303444\n",
       "CRIM_2      1.172521\n",
       "ZN_2        0.844443\n",
       "INDUS_2     0.934043\n",
       "NOX_2      -2.090527\n",
       "RM_2       14.715204\n",
       "AGE_2       0.113319\n",
       "DIS_2       2.310621\n",
       "RAD_2      -0.000000\n",
       "TAX_2       0.000000\n",
       "PTRATIO_2   0.588141\n",
       "B_2        -1.212184\n",
       "LSTAT_2     5.259645"
      ]
     },
     "execution_count": 14,
     "metadata": {},
     "output_type": "execute_result"
    }
   ],
   "source": [
    "from sklearn.linear_model import Lasso\n",
    "lasso = Lasso(alpha = 0.01, max_iter=10000)\n",
    "lasso.fit(Xs, y)\n",
    "pd.DataFrame(lasso.coef_, index=X.columns, columns=['coefts'])"
   ]
  },
  {
   "cell_type": "code",
   "execution_count": 20,
   "id": "c90ae64f",
   "metadata": {},
   "outputs": [
    {
     "data": {
      "image/png": "[encoded data removed]",
      "text/plain": [
       "<Figure size 720x288 with 1 Axes>"
      ]
     },
     "metadata": {
      "needs_background": "light"
     },
     "output_type": "display_data"
    }
   ],
   "source": [
    "coefs = []\n",
    "alphas = np.logspace(-3, -1, 50)\n",
    "for a in alphas:\n",
    "    model=Lasso(max_iter=10000, alpha=a)\n",
    "    model.fit(Xs, y)\n",
    "    coefs.append(model.coef_)\n",
    "    \n",
    "plt.figure(figsize=(10, 4))\n",
    "plt.plot(alphas, coefs)\n",
    "plt.show()"
   ]
  },
  {
   "cell_type": "raw",
   "id": "03ba3a2c",
   "metadata": {},
   "source": [
    "Note:- The figure shows that as Alpha increases, Lasso is setting many coefts to zero."
   ]
  },
  {
   "cell_type": "code",
   "execution_count": 24,
   "id": "0adf1754",
   "metadata": {},
   "outputs": [
    {
     "data": {
      "text/plain": [
       "LassoCV(alphas=array([0.001     , 0.00109854, 0.00120679, 0.00132571, 0.00145635,\n",
       "       0.00159986, 0.00175751, 0.0019307 , 0.00212095, 0.00232995,\n",
       "       0.00255955, 0.00281177, 0.00308884, 0.00339322, 0.00372759,\n",
       "       0.00409492, 0.00449843, 0.00494171, 0.00542868, 0.00596362,\n",
       "       0.00655129, 0.00719686, 0.00790604, 0.00868511, 0.00954095,\n",
       "       0.01048113, 0.01151395, 0.01264855, 0.01389495, 0.01526418,\n",
       "       0.01676833, 0.0184207 , 0.0202359 , 0.02222996, 0.02442053,\n",
       "       0.02682696, 0.02947052, 0.03237458, 0.0355648 , 0.0390694 ,\n",
       "       0.04291934, 0.04714866, 0.05179475, 0.05689866, 0.06250552,\n",
       "       0.06866488, 0.0754312 , 0.08286428, 0.09102982, 0.1       ]),\n",
       "        cv=3, max_iter=10000, random_state=4)"
      ]
     },
     "execution_count": 24,
     "metadata": {},
     "output_type": "execute_result"
    }
   ],
   "source": [
    "### Hyperparamter Tuning to estimate the optimum alpha\n",
    "from sklearn.linear_model import LassoCV\n",
    "\n",
    "alphas = np.logspace(-3, -1, 50)\n",
    "lasso_cv = LassoCV(alphas=alphas, cv=3, random_state=4, max_iter=10000)\n",
    "lasso_cv.fit(Xs, y)"
   ]
  },
  {
   "cell_type": "code",
   "execution_count": 25,
   "id": "69daf5fe",
   "metadata": {},
   "outputs": [
    {
     "data": {
      "text/plain": [
       "0.016768329368110076"
      ]
     },
     "execution_count": 25,
     "metadata": {},
     "output_type": "execute_result"
    }
   ],
   "source": [
    "lasso_cv.alpha_"
   ]
  },
  {
   "cell_type": "code",
   "execution_count": 26,
   "id": "436367f4",
   "metadata": {},
   "outputs": [
    {
     "name": "stdout",
     "output_type": "stream",
     "text": [
      "r2 Train:  0.8581380189603165\n",
      "rmse Train:  3.497063476840943\n",
      "r2 Test:  0.7267233653393044\n",
      "rmse Test:  4.6814444412394405\n"
     ]
    }
   ],
   "source": [
    "from sklearn.metrics import r2_score, mean_squared_error\n",
    "\n",
    "lasso = Lasso(alpha=lasso_cv.alpha_, max_iter=10000)\n",
    "lasso.fit(X_trains, y_train)\n",
    "y_train_pred = lasso.predict(X_trains)\n",
    "y_test_pred = lasso.predict(X_tests)\n",
    "\n",
    "print('r2 Train: ', r2_score(y_train, y_train_pred))\n",
    "print('rmse Train: ', np.sqrt(mean_squared_error(y_train, y_train_pred)))\n",
    "\n",
    "print('r2 Test: ', r2_score(y_test, y_test_pred))\n",
    "print('rmse Test: ', np.sqrt(mean_squared_error(y_test, y_test_pred)))"
   ]
  },
  {
   "cell_type": "markdown",
   "id": "ed1fab31",
   "metadata": {},
   "source": [
    "### Ridge Regression"
   ]
  },
  {
   "cell_type": "code",
   "execution_count": 27,
   "id": "dce45a00",
   "metadata": {},
   "outputs": [
    {
     "data": {
      "image/png": "[encoded data removed]",
      "text/plain": [
       "<Figure size 720x288 with 1 Axes>"
      ]
     },
     "metadata": {
      "needs_background": "light"
     },
     "output_type": "display_data"
    }
   ],
   "source": [
    "from sklearn.linear_model import Ridge\n",
    "coefs = []\n",
    "alphas = np.logspace(-3, 1, 50)\n",
    "for a in alphas:\n",
    "    model=Ridge(alpha=a)\n",
    "    model.fit(Xs, y)\n",
    "    coefs.append(model.coef_)\n",
    "    \n",
    "plt.figure(figsize=(10, 4))\n",
    "plt.plot(alphas, coefs)\n",
    "plt.show()"
   ]
  },
  {
   "cell_type": "raw",
   "id": "27d42a85",
   "metadata": {},
   "source": [
    "As expected the above figure shows that all coefts are reduced in size gradually (none of the coefts are set to zero like in the case of Lasso)."
   ]
  },
  {
   "cell_type": "code",
   "execution_count": 28,
   "id": "0241fca0",
   "metadata": {},
   "outputs": [
    {
     "data": {
      "text/plain": [
       "RidgeCV(alphas=array([1.00000000e-03, 1.20679264e-03, 1.45634848e-03, 1.75751062e-03,\n",
       "       2.12095089e-03, 2.55954792e-03, 3.08884360e-03, 3.72759372e-03,\n",
       "       4.49843267e-03, 5.42867544e-03, 6.55128557e-03, 7.90604321e-03,\n",
       "       9.54095476e-03, 1.15139540e-02, 1.38949549e-02, 1.67683294e-02,\n",
       "       2.02358965e-02, 2.44205309e-02, 2.94705170e-02, 3.55648031e-02,\n",
       "       4.29193426e-02, 5.17947468e-0...\n",
       "       9.10298178e-02, 1.09854114e-01, 1.32571137e-01, 1.59985872e-01,\n",
       "       1.93069773e-01, 2.32995181e-01, 2.81176870e-01, 3.39322177e-01,\n",
       "       4.09491506e-01, 4.94171336e-01, 5.96362332e-01, 7.19685673e-01,\n",
       "       8.68511374e-01, 1.04811313e+00, 1.26485522e+00, 1.52641797e+00,\n",
       "       1.84206997e+00, 2.22299648e+00, 2.68269580e+00, 3.23745754e+00,\n",
       "       3.90693994e+00, 4.71486636e+00, 5.68986603e+00, 6.86648845e+00,\n",
       "       8.28642773e+00, 1.00000000e+01]),\n",
       "        cv=3)"
      ]
     },
     "execution_count": 28,
     "metadata": {},
     "output_type": "execute_result"
    }
   ],
   "source": [
    "## Hyperparameter Tuning to identify the best alpha\n",
    "from sklearn.linear_model import RidgeCV\n",
    "\n",
    "alphas = np.logspace(-3, 1, 50)\n",
    "ridge_cv = RidgeCV(alphas=alphas, cv=3)\n",
    "ridge_cv.fit(Xs, y)"
   ]
  },
  {
   "cell_type": "code",
   "execution_count": 29,
   "id": "c979db25",
   "metadata": {},
   "outputs": [
    {
     "data": {
      "text/plain": [
       "0.4094915062380423"
      ]
     },
     "execution_count": 29,
     "metadata": {},
     "output_type": "execute_result"
    }
   ],
   "source": [
    "ridge_cv.alpha_"
   ]
  },
  {
   "cell_type": "code",
   "execution_count": 30,
   "id": "f09887e9",
   "metadata": {},
   "outputs": [
    {
     "name": "stdout",
     "output_type": "stream",
     "text": [
      "r2 Train:  0.8607010840119931\n",
      "rmse Train:  3.46532820756136\n",
      "r2 Test:  0.7186503726660125\n",
      "rmse Test:  4.750089530072126\n"
     ]
    }
   ],
   "source": [
    "ridge = Ridge(alpha=ridge_cv.alpha_)\n",
    "ridge.fit(X_trains, y_train)\n",
    "y_train_pred = ridge.predict(X_trains)\n",
    "y_test_pred = ridge.predict(X_tests)\n",
    "\n",
    "print('r2 Train: ', r2_score(y_train, y_train_pred))\n",
    "print('rmse Train: ', np.sqrt(mean_squared_error(y_train, y_train_pred)))\n",
    "\n",
    "print('r2 Test: ', r2_score(y_test, y_test_pred))\n",
    "print('rmse Test: ', np.sqrt(mean_squared_error(y_test, y_test_pred)))"
   ]
  },
  {
   "cell_type": "markdown",
   "id": "48880ecb",
   "metadata": {},
   "source": [
    "### ElasticNet Regression"
   ]
  },
  {
   "cell_type": "code",
   "execution_count": 31,
   "id": "9bf1d94c",
   "metadata": {},
   "outputs": [],
   "source": [
    "from sklearn.linear_model import ElasticNet, ElasticNetCV"
   ]
  },
  {
   "cell_type": "code",
   "execution_count": 34,
   "id": "9370f12a",
   "metadata": {},
   "outputs": [
    {
     "data": {
      "image/png": "[encoded data removed]",
      "text/plain": [
       "<Figure size 720x288 with 1 Axes>"
      ]
     },
     "metadata": {
      "needs_background": "light"
     },
     "output_type": "display_data"
    }
   ],
   "source": [
    "coefs = []\n",
    "alphas = np.logspace(-3, -1, 50)\n",
    "for a in alphas:\n",
    "    model=ElasticNet(alpha=a, max_iter=10000)\n",
    "    model.fit(Xs, y)\n",
    "    coefs.append(model.coef_)\n",
    "    \n",
    "plt.figure(figsize=(10, 4))\n",
    "plt.plot(alphas, coefs)\n",
    "plt.show()"
   ]
  },
  {
   "cell_type": "raw",
   "id": "bfbcb363",
   "metadata": {},
   "source": [
    "Note:- As expected, ElasticNet set some coefts to zero while others are reduced in size (this behaviour is a combination of Lasso and Ridge). "
   ]
  },
  {
   "cell_type": "code",
   "execution_count": 35,
   "id": "298890f2",
   "metadata": {},
   "outputs": [
    {
     "data": {
      "text/plain": [
       "0.0026826957952797246"
      ]
     },
     "execution_count": 35,
     "metadata": {},
     "output_type": "execute_result"
    }
   ],
   "source": [
    "### Hyperparamter Tuning to identify the best alpha\n",
    "alphas = np.logspace(-3, 0, 50)\n",
    "elasticnet_cv = ElasticNetCV(alphas=alphas, cv=3, max_iter=10000, random_state=4)\n",
    "elasticnet_cv.fit(Xs, y)\n",
    "elasticnet_cv.alpha_"
   ]
  },
  {
   "cell_type": "code",
   "execution_count": 37,
   "id": "a9b251f0",
   "metadata": {},
   "outputs": [
    {
     "name": "stdout",
     "output_type": "stream",
     "text": [
      "r2 Train:  0.8596547212416721\n",
      "rmse Train:  3.478318999960843\n",
      "r2 Test:  0.7226289839178119\n",
      "rmse Test:  4.716384049336997\n"
     ]
    }
   ],
   "source": [
    "elasticnet = ElasticNet(alpha=elasticnet_cv.alpha_, max_iter=10000)\n",
    "elasticnet.fit(X_trains, y_train)\n",
    "y_train_pred = elasticnet.predict(X_trains)\n",
    "y_test_pred = elasticnet.predict(X_tests)\n",
    "\n",
    "print('r2 Train: ', r2_score(y_train, y_train_pred))\n",
    "print('rmse Train: ', np.sqrt(mean_squared_error(y_train, y_train_pred)))\n",
    "\n",
    "print('r2 Test: ', r2_score(y_test, y_test_pred))\n",
    "print('rmse Test: ', np.sqrt(mean_squared_error(y_test, y_test_pred)))"
   ]
  },
  {
   "cell_type": "code",
   "execution_count": null,
   "id": "c75fe50f",
   "metadata": {},
   "outputs": [],
   "source": []
  },
  {
   "cell_type": "code",
   "execution_count": null,
   "id": "214680cc",
   "metadata": {},
   "outputs": [],
   "source": []
  }
 ],
 "metadata": {
  "kernelspec": {
   "display_name": "Python 3 (ipykernel)",
   "language": "python",
   "name": "python3"
  },
  "language_info": {
   "codemirror_mode": {
    "name": "ipython",
    "version": 3
   },
   "file_extension": ".py",
   "mimetype": "text/x-python",
   "name": "python",
   "nbconvert_exporter": "python",
   "pygments_lexer": "ipython3",
   "version": "3.9.12"
  }
 },
 "nbformat": 4,
 "nbformat_minor": 5
}
