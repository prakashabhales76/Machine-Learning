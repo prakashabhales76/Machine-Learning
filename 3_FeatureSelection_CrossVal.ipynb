{
 "cells": [
  {
   "cell_type": "code",
   "execution_count": 1,
   "id": "explicit-drive",
   "metadata": {},
   "outputs": [],
   "source": [
    "import numpy as np\n",
    "import pandas as pd\n",
    "from matplotlib import pyplot as plt\n",
    "import seaborn as sns"
   ]
  },
  {
   "cell_type": "code",
   "execution_count": 52,
   "id": "758fedb5",
   "metadata": {},
   "outputs": [
    {
     "data": {
      "text/html": [
       "<div>\n",
       "<style scoped>\n",
       "    .dataframe tbody tr th:only-of-type {\n",
       "        vertical-align: middle;\n",
       "    }\n",
       "\n",
       "    .dataframe tbody tr th {\n",
       "        vertical-align: top;\n",
       "    }\n",
       "\n",
       "    .dataframe thead th {\n",
       "        text-align: right;\n",
       "    }\n",
       "</style>\n",
       "<table border=\"1\" class=\"dataframe\">\n",
       "  <thead>\n",
       "    <tr style=\"text-align: right;\">\n",
       "      <th></th>\n",
       "      <th>CRIM</th>\n",
       "      <th>ZN</th>\n",
       "      <th>INDUS</th>\n",
       "      <th>CHAS</th>\n",
       "      <th>NOX</th>\n",
       "      <th>RM</th>\n",
       "      <th>AGE</th>\n",
       "      <th>DIS</th>\n",
       "      <th>RAD</th>\n",
       "      <th>TAX</th>\n",
       "      <th>PTRATIO</th>\n",
       "      <th>B</th>\n",
       "      <th>LSTAT</th>\n",
       "      <th>PRICE</th>\n",
       "    </tr>\n",
       "  </thead>\n",
       "  <tbody>\n",
       "    <tr>\n",
       "      <th>0</th>\n",
       "      <td>0.00632</td>\n",
       "      <td>18.0</td>\n",
       "      <td>2.31</td>\n",
       "      <td>0</td>\n",
       "      <td>0.538</td>\n",
       "      <td>6.575</td>\n",
       "      <td>65.2</td>\n",
       "      <td>4.0900</td>\n",
       "      <td>1</td>\n",
       "      <td>296</td>\n",
       "      <td>15.3</td>\n",
       "      <td>396.90</td>\n",
       "      <td>4.98</td>\n",
       "      <td>24.0</td>\n",
       "    </tr>\n",
       "    <tr>\n",
       "      <th>1</th>\n",
       "      <td>0.02731</td>\n",
       "      <td>0.0</td>\n",
       "      <td>7.07</td>\n",
       "      <td>0</td>\n",
       "      <td>0.469</td>\n",
       "      <td>6.421</td>\n",
       "      <td>78.9</td>\n",
       "      <td>4.9671</td>\n",
       "      <td>2</td>\n",
       "      <td>242</td>\n",
       "      <td>17.8</td>\n",
       "      <td>396.90</td>\n",
       "      <td>9.14</td>\n",
       "      <td>21.6</td>\n",
       "    </tr>\n",
       "    <tr>\n",
       "      <th>2</th>\n",
       "      <td>0.02729</td>\n",
       "      <td>0.0</td>\n",
       "      <td>7.07</td>\n",
       "      <td>0</td>\n",
       "      <td>0.469</td>\n",
       "      <td>7.185</td>\n",
       "      <td>61.1</td>\n",
       "      <td>4.9671</td>\n",
       "      <td>2</td>\n",
       "      <td>242</td>\n",
       "      <td>17.8</td>\n",
       "      <td>392.83</td>\n",
       "      <td>4.03</td>\n",
       "      <td>34.7</td>\n",
       "    </tr>\n",
       "    <tr>\n",
       "      <th>3</th>\n",
       "      <td>0.03237</td>\n",
       "      <td>0.0</td>\n",
       "      <td>2.18</td>\n",
       "      <td>0</td>\n",
       "      <td>0.458</td>\n",
       "      <td>6.998</td>\n",
       "      <td>45.8</td>\n",
       "      <td>6.0622</td>\n",
       "      <td>3</td>\n",
       "      <td>222</td>\n",
       "      <td>18.7</td>\n",
       "      <td>394.63</td>\n",
       "      <td>2.94</td>\n",
       "      <td>33.4</td>\n",
       "    </tr>\n",
       "    <tr>\n",
       "      <th>4</th>\n",
       "      <td>0.06905</td>\n",
       "      <td>0.0</td>\n",
       "      <td>2.18</td>\n",
       "      <td>0</td>\n",
       "      <td>0.458</td>\n",
       "      <td>7.147</td>\n",
       "      <td>54.2</td>\n",
       "      <td>6.0622</td>\n",
       "      <td>3</td>\n",
       "      <td>222</td>\n",
       "      <td>18.7</td>\n",
       "      <td>396.90</td>\n",
       "      <td>5.33</td>\n",
       "      <td>36.2</td>\n",
       "    </tr>\n",
       "  </tbody>\n",
       "</table>\n",
       "</div>"
      ],
      "text/plain": [
       "      CRIM    ZN  INDUS  CHAS    NOX     RM   AGE     DIS  RAD  TAX  PTRATIO  \\\n",
       "0  0.00632  18.0   2.31     0  0.538  6.575  65.2  4.0900    1  296     15.3   \n",
       "1  0.02731   0.0   7.07     0  0.469  6.421  78.9  4.9671    2  242     17.8   \n",
       "2  0.02729   0.0   7.07     0  0.469  7.185  61.1  4.9671    2  242     17.8   \n",
       "3  0.03237   0.0   2.18     0  0.458  6.998  45.8  6.0622    3  222     18.7   \n",
       "4  0.06905   0.0   2.18     0  0.458  7.147  54.2  6.0622    3  222     18.7   \n",
       "\n",
       "        B  LSTAT  PRICE  \n",
       "0  396.90   4.98   24.0  \n",
       "1  396.90   9.14   21.6  \n",
       "2  392.83   4.03   34.7  \n",
       "3  394.63   2.94   33.4  \n",
       "4  396.90   5.33   36.2  "
      ]
     },
     "execution_count": 52,
     "metadata": {},
     "output_type": "execute_result"
    }
   ],
   "source": [
    "df_housing = pd.read_csv('housing_data.csv')\n",
    "df_housing.head()"
   ]
  },
  {
   "cell_type": "code",
   "execution_count": 53,
   "id": "posted-harrison",
   "metadata": {},
   "outputs": [],
   "source": [
    "X = df_housing.drop('PRICE', axis=1)\n",
    "y = df_housing['PRICE']"
   ]
  },
  {
   "cell_type": "code",
   "execution_count": 54,
   "id": "valued-arrangement",
   "metadata": {},
   "outputs": [],
   "source": [
    "from sklearn.model_selection import train_test_split\n",
    "X_train, X_test, y_train, y_test = train_test_split(X,y, test_size=0.3, \n",
    "                                                    random_state=100)"
   ]
  },
  {
   "cell_type": "code",
   "execution_count": 55,
   "id": "916a09f1",
   "metadata": {},
   "outputs": [
    {
     "data": {
      "text/plain": [
       "(354, 13)"
      ]
     },
     "execution_count": 55,
     "metadata": {},
     "output_type": "execute_result"
    }
   ],
   "source": [
    "X_train.shape"
   ]
  },
  {
   "cell_type": "code",
   "execution_count": 56,
   "id": "fca7add9",
   "metadata": {},
   "outputs": [
    {
     "data": {
      "text/plain": [
       "(152, 13)"
      ]
     },
     "execution_count": 56,
     "metadata": {},
     "output_type": "execute_result"
    }
   ],
   "source": [
    "X_test.shape"
   ]
  },
  {
   "cell_type": "code",
   "execution_count": 2,
   "id": "changed-separation",
   "metadata": {},
   "outputs": [],
   "source": [
    "from sklearn.linear_model import LinearRegression"
   ]
  },
  {
   "cell_type": "code",
   "execution_count": 58,
   "id": "43c93052",
   "metadata": {},
   "outputs": [
    {
     "data": {
      "text/html": [
       "<style>#sk-container-id-2 {color: black;background-color: white;}#sk-container-id-2 pre{padding: 0;}#sk-container-id-2 div.sk-toggleable {background-color: white;}#sk-container-id-2 label.sk-toggleable__label {cursor: pointer;display: block;width: 100%;margin-bottom: 0;padding: 0.3em;box-sizing: border-box;text-align: center;}#sk-container-id-2 label.sk-toggleable__label-arrow:before {content: \"▸\";float: left;margin-right: 0.25em;color: #696969;}#sk-container-id-2 label.sk-toggleable__label-arrow:hover:before {color: black;}#sk-container-id-2 div.sk-estimator:hover label.sk-toggleable__label-arrow:before {color: black;}#sk-container-id-2 div.sk-toggleable__content {max-height: 0;max-width: 0;overflow: hidden;text-align: left;background-color: #f0f8ff;}#sk-container-id-2 div.sk-toggleable__content pre {margin: 0.2em;color: black;border-radius: 0.25em;background-color: #f0f8ff;}#sk-container-id-2 input.sk-toggleable__control:checked~div.sk-toggleable__content {max-height: 200px;max-width: 100%;overflow: auto;}#sk-container-id-2 input.sk-toggleable__control:checked~label.sk-toggleable__label-arrow:before {content: \"▾\";}#sk-container-id-2 div.sk-estimator input.sk-toggleable__control:checked~label.sk-toggleable__label {background-color: #d4ebff;}#sk-container-id-2 div.sk-label input.sk-toggleable__control:checked~label.sk-toggleable__label {background-color: #d4ebff;}#sk-container-id-2 input.sk-hidden--visually {border: 0;clip: rect(1px 1px 1px 1px);clip: rect(1px, 1px, 1px, 1px);height: 1px;margin: -1px;overflow: hidden;padding: 0;position: absolute;width: 1px;}#sk-container-id-2 div.sk-estimator {font-family: monospace;background-color: #f0f8ff;border: 1px dotted black;border-radius: 0.25em;box-sizing: border-box;margin-bottom: 0.5em;}#sk-container-id-2 div.sk-estimator:hover {background-color: #d4ebff;}#sk-container-id-2 div.sk-parallel-item::after {content: \"\";width: 100%;border-bottom: 1px solid gray;flex-grow: 1;}#sk-container-id-2 div.sk-label:hover label.sk-toggleable__label {background-color: #d4ebff;}#sk-container-id-2 div.sk-serial::before {content: \"\";position: absolute;border-left: 1px solid gray;box-sizing: border-box;top: 0;bottom: 0;left: 50%;z-index: 0;}#sk-container-id-2 div.sk-serial {display: flex;flex-direction: column;align-items: center;background-color: white;padding-right: 0.2em;padding-left: 0.2em;position: relative;}#sk-container-id-2 div.sk-item {position: relative;z-index: 1;}#sk-container-id-2 div.sk-parallel {display: flex;align-items: stretch;justify-content: center;background-color: white;position: relative;}#sk-container-id-2 div.sk-item::before, #sk-container-id-2 div.sk-parallel-item::before {content: \"\";position: absolute;border-left: 1px solid gray;box-sizing: border-box;top: 0;bottom: 0;left: 50%;z-index: -1;}#sk-container-id-2 div.sk-parallel-item {display: flex;flex-direction: column;z-index: 1;position: relative;background-color: white;}#sk-container-id-2 div.sk-parallel-item:first-child::after {align-self: flex-end;width: 50%;}#sk-container-id-2 div.sk-parallel-item:last-child::after {align-self: flex-start;width: 50%;}#sk-container-id-2 div.sk-parallel-item:only-child::after {width: 0;}#sk-container-id-2 div.sk-dashed-wrapped {border: 1px dashed gray;margin: 0 0.4em 0.5em 0.4em;box-sizing: border-box;padding-bottom: 0.4em;background-color: white;}#sk-container-id-2 div.sk-label label {font-family: monospace;font-weight: bold;display: inline-block;line-height: 1.2em;}#sk-container-id-2 div.sk-label-container {text-align: center;}#sk-container-id-2 div.sk-container {/* jupyter's `normalize.less` sets `[hidden] { display: none; }` but bootstrap.min.css set `[hidden] { display: none !important; }` so we also need the `!important` here to be able to override the default hidden behavior on the sphinx rendered scikit-learn.org. See: https://github.com/scikit-learn/scikit-learn/issues/21755 */display: inline-block !important;position: relative;}#sk-container-id-2 div.sk-text-repr-fallback {display: none;}</style><div id=\"sk-container-id-2\" class=\"sk-top-container\"><div class=\"sk-text-repr-fallback\"><pre>LinearRegression()</pre><b>In a Jupyter environment, please rerun this cell to show the HTML representation or trust the notebook. <br />On GitHub, the HTML representation is unable to render, please try loading this page with nbviewer.org.</b></div><div class=\"sk-container\" hidden><div class=\"sk-item\"><div class=\"sk-estimator sk-toggleable\"><input class=\"sk-toggleable__control sk-hidden--visually\" id=\"sk-estimator-id-2\" type=\"checkbox\" checked><label for=\"sk-estimator-id-2\" class=\"sk-toggleable__label sk-toggleable__label-arrow\">LinearRegression</label><div class=\"sk-toggleable__content\"><pre>LinearRegression()</pre></div></div></div></div></div>"
      ],
      "text/plain": [
       "LinearRegression()"
      ]
     },
     "execution_count": 58,
     "metadata": {},
     "output_type": "execute_result"
    }
   ],
   "source": [
    "lr = LinearRegression()\n",
    "lr.fit(X_train, y_train)  # Train the model"
   ]
  },
  {
   "cell_type": "code",
   "execution_count": 59,
   "id": "862126ac",
   "metadata": {},
   "outputs": [],
   "source": [
    "y_pred_test = lr.predict(X_test)  # Get predictions"
   ]
  },
  {
   "cell_type": "code",
   "execution_count": 3,
   "id": "adjusted-conducting",
   "metadata": {},
   "outputs": [],
   "source": [
    "from sklearn.metrics import r2_score, mean_squared_error, \\\n",
    "mean_absolute_error, mean_absolute_percentage_error "
   ]
  },
  {
   "cell_type": "code",
   "execution_count": 61,
   "id": "87b373be",
   "metadata": {},
   "outputs": [
    {
     "name": "stdout",
     "output_type": "stream",
     "text": [
      "Test metrics\n",
      "R2: 0.7057919873264542\n",
      "MSE: 29.79884430147881\n",
      "RMSE: 5.458831770761837\n",
      "MAE: 3.471947848270165\n",
      "MAPE: 0.17090351588701452\n"
     ]
    }
   ],
   "source": [
    "# Measure performance on Test data\n",
    "test_r2 = r2_score(y_test, y_pred_test)\n",
    "test_mse = mean_squared_error(y_test, y_pred_test)\n",
    "test_rmse = np.sqrt(test_mse)\n",
    "test_mae = mean_absolute_error(y_test, y_pred_test)\n",
    "test_mape = mean_absolute_percentage_error(y_test, y_pred_test)\n",
    "\n",
    "print('Test metrics')\n",
    "print('R2:', test_r2)\n",
    "print('MSE:', test_mse)\n",
    "print('RMSE:', test_rmse)\n",
    "print('MAE:', test_mae)\n",
    "print('MAPE:', test_mape)"
   ]
  },
  {
   "cell_type": "code",
   "execution_count": 62,
   "id": "8694d983",
   "metadata": {},
   "outputs": [],
   "source": [
    "y_pred_train = lr.predict(X_train)  # Get predictions"
   ]
  },
  {
   "cell_type": "code",
   "execution_count": 63,
   "id": "d89497d9",
   "metadata": {},
   "outputs": [
    {
     "name": "stdout",
     "output_type": "stream",
     "text": [
      "train metrics\n",
      "R2: 0.752890983596846\n",
      "MSE: 19.067391155385046\n",
      "RMSE: 4.366622396702633\n",
      "MAE: 3.1273498053306574\n",
      "MAPE: 0.1569169678601374\n"
     ]
    }
   ],
   "source": [
    "# Compute performace for training data\n",
    "train_r2 = r2_score(y_train, y_pred_train)\n",
    "train_mse = mean_squared_error(y_train, y_pred_train)\n",
    "train_rmse = np.sqrt(train_mse)\n",
    "train_mae = mean_absolute_error(y_train, y_pred_train)\n",
    "train_mape = mean_absolute_percentage_error(y_train, y_pred_train)\n",
    "\n",
    "print('train metrics')\n",
    "print('R2:', train_r2)\n",
    "print('MSE:', train_mse)\n",
    "print('RMSE:', train_rmse)\n",
    "print('MAE:', train_mae)\n",
    "print('MAPE:', train_mape)"
   ]
  },
  {
   "cell_type": "code",
   "execution_count": 64,
   "id": "1220ec28",
   "metadata": {},
   "outputs": [],
   "source": [
    "#### End"
   ]
  },
  {
   "cell_type": "code",
   "execution_count": 65,
   "id": "together-beaver",
   "metadata": {},
   "outputs": [
    {
     "name": "stdout",
     "output_type": "stream",
     "text": [
      "Train R2  0.752890983596846\n",
      "Test R2   0.7057919873264542\n",
      "train RMSE  4.366622396702633\n",
      "test RMSE  5.458831770761837\n"
     ]
    },
    {
     "data": {
      "text/plain": [
       "['LR Full model',\n",
       " 0.752890983596846,\n",
       " 0.7057919873264542,\n",
       " 4.366622396702633,\n",
       " 5.458831770761837]"
      ]
     },
     "execution_count": 65,
     "metadata": {},
     "output_type": "execute_result"
    }
   ],
   "source": [
    "### DAY 3\n",
    "# Build Linear Regression and Capture R2 and RMSE\n",
    "\n",
    "lr = LinearRegression()\n",
    "lr.fit(X_train, y_train)\n",
    "\n",
    "y_pred_train = lr.predict(X_train)\n",
    "y_pred_test = lr.predict(X_test)\n",
    "\n",
    "train_r2 = r2_score(y_train, y_pred_train)\n",
    "test_r2 = r2_score(y_test, y_pred_test)\n",
    "print('Train R2 ', train_r2)\n",
    "print('Test R2  ', test_r2)\n",
    "\n",
    "train_mse = mean_squared_error(y_train, y_pred_train)\n",
    "test_mse = mean_squared_error(y_test, y_pred_test)\n",
    "train_rmse = np.sqrt(train_mse)\n",
    "test_rmse = np.sqrt(test_mse)\n",
    "print(\"train RMSE \", train_rmse)\n",
    "print(\"test RMSE \", test_rmse)\n",
    "\n",
    "result_lr = ['LR Full model', train_r2, test_r2, train_rmse, test_rmse]\n",
    "result_lr"
   ]
  },
  {
   "cell_type": "code",
   "execution_count": 66,
   "id": "d3b27f36",
   "metadata": {},
   "outputs": [
    {
     "data": {
      "text/plain": [
       "33.11584094298593"
      ]
     },
     "execution_count": 66,
     "metadata": {},
     "output_type": "execute_result"
    }
   ],
   "source": [
    "lr.intercept_"
   ]
  },
  {
   "cell_type": "code",
   "execution_count": 67,
   "id": "c877a6f2",
   "metadata": {},
   "outputs": [
    {
     "data": {
      "text/plain": [
       "array([-7.69175693e-02,  3.95527497e-02, -6.09889801e-03,  2.63034959e+00,\n",
       "       -1.31416178e+01,  3.84418005e+00, -1.20624925e-02, -1.37626293e+00,\n",
       "        2.83925319e-01, -1.40640197e-02, -9.18566330e-01,  1.05783116e-02,\n",
       "       -4.37960459e-01])"
      ]
     },
     "execution_count": 67,
     "metadata": {},
     "output_type": "execute_result"
    }
   ],
   "source": [
    "lr.coef_"
   ]
  },
  {
   "cell_type": "code",
   "execution_count": 68,
   "id": "occupied-addition",
   "metadata": {},
   "outputs": [
    {
     "data": {
      "text/html": [
       "<div>\n",
       "<style scoped>\n",
       "    .dataframe tbody tr th:only-of-type {\n",
       "        vertical-align: middle;\n",
       "    }\n",
       "\n",
       "    .dataframe tbody tr th {\n",
       "        vertical-align: top;\n",
       "    }\n",
       "\n",
       "    .dataframe thead th {\n",
       "        text-align: right;\n",
       "    }\n",
       "</style>\n",
       "<table border=\"1\" class=\"dataframe\">\n",
       "  <thead>\n",
       "    <tr style=\"text-align: right;\">\n",
       "      <th></th>\n",
       "      <th>Col Name</th>\n",
       "      <th>Coef</th>\n",
       "    </tr>\n",
       "  </thead>\n",
       "  <tbody>\n",
       "    <tr>\n",
       "      <th>0</th>\n",
       "      <td>CRIM</td>\n",
       "      <td>-0.076918</td>\n",
       "    </tr>\n",
       "    <tr>\n",
       "      <th>1</th>\n",
       "      <td>ZN</td>\n",
       "      <td>0.039553</td>\n",
       "    </tr>\n",
       "    <tr>\n",
       "      <th>2</th>\n",
       "      <td>INDUS</td>\n",
       "      <td>-0.006099</td>\n",
       "    </tr>\n",
       "    <tr>\n",
       "      <th>3</th>\n",
       "      <td>CHAS</td>\n",
       "      <td>2.630350</td>\n",
       "    </tr>\n",
       "    <tr>\n",
       "      <th>4</th>\n",
       "      <td>NOX</td>\n",
       "      <td>-13.141618</td>\n",
       "    </tr>\n",
       "    <tr>\n",
       "      <th>5</th>\n",
       "      <td>RM</td>\n",
       "      <td>3.844180</td>\n",
       "    </tr>\n",
       "    <tr>\n",
       "      <th>6</th>\n",
       "      <td>AGE</td>\n",
       "      <td>-0.012062</td>\n",
       "    </tr>\n",
       "    <tr>\n",
       "      <th>7</th>\n",
       "      <td>DIS</td>\n",
       "      <td>-1.376263</td>\n",
       "    </tr>\n",
       "    <tr>\n",
       "      <th>8</th>\n",
       "      <td>RAD</td>\n",
       "      <td>0.283925</td>\n",
       "    </tr>\n",
       "    <tr>\n",
       "      <th>9</th>\n",
       "      <td>TAX</td>\n",
       "      <td>-0.014064</td>\n",
       "    </tr>\n",
       "    <tr>\n",
       "      <th>10</th>\n",
       "      <td>PTRATIO</td>\n",
       "      <td>-0.918566</td>\n",
       "    </tr>\n",
       "    <tr>\n",
       "      <th>11</th>\n",
       "      <td>B</td>\n",
       "      <td>0.010578</td>\n",
       "    </tr>\n",
       "    <tr>\n",
       "      <th>12</th>\n",
       "      <td>LSTAT</td>\n",
       "      <td>-0.437960</td>\n",
       "    </tr>\n",
       "  </tbody>\n",
       "</table>\n",
       "</div>"
      ],
      "text/plain": [
       "   Col Name       Coef\n",
       "0      CRIM  -0.076918\n",
       "1        ZN   0.039553\n",
       "2     INDUS  -0.006099\n",
       "3      CHAS   2.630350\n",
       "4       NOX -13.141618\n",
       "5        RM   3.844180\n",
       "6       AGE  -0.012062\n",
       "7       DIS  -1.376263\n",
       "8       RAD   0.283925\n",
       "9       TAX  -0.014064\n",
       "10  PTRATIO  -0.918566\n",
       "11        B   0.010578\n",
       "12    LSTAT  -0.437960"
      ]
     },
     "execution_count": 68,
     "metadata": {},
     "output_type": "execute_result"
    }
   ],
   "source": [
    "LR_coefs = pd.DataFrame()\n",
    "LR_coefs['Col Name'] = X.columns\n",
    "LR_coefs['Coef'] = lr.coef_\n",
    "LR_coefs"
   ]
  },
  {
   "cell_type": "markdown",
   "id": "cathedral-values",
   "metadata": {},
   "source": [
    "\n",
    "### Feature Selection"
   ]
  },
  {
   "cell_type": "code",
   "execution_count": 69,
   "id": "manufactured-strike",
   "metadata": {},
   "outputs": [],
   "source": [
    "#!pip3 install mlxtend"
   ]
  },
  {
   "cell_type": "code",
   "execution_count": 4,
   "id": "given-egypt",
   "metadata": {},
   "outputs": [],
   "source": [
    "from mlxtend.feature_selection import SequentialFeatureSelector as sfs"
   ]
  },
  {
   "cell_type": "code",
   "execution_count": 71,
   "id": "practical-system",
   "metadata": {},
   "outputs": [
    {
     "name": "stderr",
     "output_type": "stream",
     "text": [
      "[Parallel(n_jobs=1)]: Using backend SequentialBackend with 1 concurrent workers.\n",
      "[Parallel(n_jobs=1)]: Done   1 out of   1 | elapsed:    0.0s remaining:    0.0s\n",
      "[Parallel(n_jobs=1)]: Done  13 out of  13 | elapsed:    0.0s finished\n",
      "\n",
      "[2023-04-06 17:25:34] Features: 1/13 -- score: 0.5261603029632435[Parallel(n_jobs=1)]: Using backend SequentialBackend with 1 concurrent workers.\n",
      "[Parallel(n_jobs=1)]: Done   1 out of   1 | elapsed:    0.0s remaining:    0.0s\n",
      "[Parallel(n_jobs=1)]: Done  12 out of  12 | elapsed:    0.0s finished\n",
      "\n",
      "[2023-04-06 17:25:34] Features: 2/13 -- score: 0.6241817903347533[Parallel(n_jobs=1)]: Using backend SequentialBackend with 1 concurrent workers.\n",
      "[Parallel(n_jobs=1)]: Done   1 out of   1 | elapsed:    0.0s remaining:    0.0s\n",
      "[Parallel(n_jobs=1)]: Done  11 out of  11 | elapsed:    0.0s finished\n",
      "\n",
      "[2023-04-06 17:25:34] Features: 3/13 -- score: 0.6706654496693151[Parallel(n_jobs=1)]: Using backend SequentialBackend with 1 concurrent workers.\n",
      "[Parallel(n_jobs=1)]: Done   1 out of   1 | elapsed:    0.0s remaining:    0.0s\n",
      "[Parallel(n_jobs=1)]: Done  10 out of  10 | elapsed:    0.0s finished\n",
      "\n",
      "[2023-04-06 17:25:34] Features: 4/13 -- score: 0.6820007792393799[Parallel(n_jobs=1)]: Using backend SequentialBackend with 1 concurrent workers.\n",
      "[Parallel(n_jobs=1)]: Done   1 out of   1 | elapsed:    0.0s remaining:    0.0s\n",
      "[Parallel(n_jobs=1)]: Done   9 out of   9 | elapsed:    0.0s finished\n",
      "\n",
      "[2023-04-06 17:25:34] Features: 5/13 -- score: 0.690434478338266[Parallel(n_jobs=1)]: Using backend SequentialBackend with 1 concurrent workers.\n",
      "[Parallel(n_jobs=1)]: Done   1 out of   1 | elapsed:    0.0s remaining:    0.0s\n",
      "[Parallel(n_jobs=1)]: Done   8 out of   8 | elapsed:    0.0s finished\n",
      "\n",
      "[2023-04-06 17:25:34] Features: 6/13 -- score: 0.6939378922085784[Parallel(n_jobs=1)]: Using backend SequentialBackend with 1 concurrent workers.\n",
      "[Parallel(n_jobs=1)]: Done   1 out of   1 | elapsed:    0.0s remaining:    0.0s\n",
      "[Parallel(n_jobs=1)]: Done   7 out of   7 | elapsed:    0.0s finished\n",
      "\n",
      "[2023-04-06 17:25:34] Features: 7/13 -- score: 0.7096927863137706[Parallel(n_jobs=1)]: Using backend SequentialBackend with 1 concurrent workers.\n",
      "[Parallel(n_jobs=1)]: Done   1 out of   1 | elapsed:    0.0s remaining:    0.0s\n",
      "[Parallel(n_jobs=1)]: Done   6 out of   6 | elapsed:    0.0s finished\n",
      "\n",
      "[2023-04-06 17:25:34] Features: 8/13 -- score: 0.7139685944425139[Parallel(n_jobs=1)]: Using backend SequentialBackend with 1 concurrent workers.\n",
      "[Parallel(n_jobs=1)]: Done   1 out of   1 | elapsed:    0.0s remaining:    0.0s\n",
      "[Parallel(n_jobs=1)]: Done   5 out of   5 | elapsed:    0.0s finished\n",
      "\n",
      "[2023-04-06 17:25:34] Features: 9/13 -- score: 0.7139361415539116[Parallel(n_jobs=1)]: Using backend SequentialBackend with 1 concurrent workers.\n",
      "[Parallel(n_jobs=1)]: Done   1 out of   1 | elapsed:    0.0s remaining:    0.0s\n",
      "[Parallel(n_jobs=1)]: Done   4 out of   4 | elapsed:    0.0s finished\n",
      "\n",
      "[2023-04-06 17:25:34] Features: 10/13 -- score: 0.7142054099809256[Parallel(n_jobs=1)]: Using backend SequentialBackend with 1 concurrent workers.\n",
      "[Parallel(n_jobs=1)]: Done   1 out of   1 | elapsed:    0.0s remaining:    0.0s\n",
      "[Parallel(n_jobs=1)]: Done   3 out of   3 | elapsed:    0.0s finished\n",
      "\n",
      "[2023-04-06 17:25:34] Features: 11/13 -- score: 0.7230451718082934[Parallel(n_jobs=1)]: Using backend SequentialBackend with 1 concurrent workers.\n",
      "[Parallel(n_jobs=1)]: Done   1 out of   1 | elapsed:    0.0s remaining:    0.0s\n",
      "[Parallel(n_jobs=1)]: Done   2 out of   2 | elapsed:    0.0s finished\n",
      "\n",
      "[2023-04-06 17:25:34] Features: 12/13 -- score: 0.7203749681521989[Parallel(n_jobs=1)]: Using backend SequentialBackend with 1 concurrent workers.\n",
      "[Parallel(n_jobs=1)]: Done   1 out of   1 | elapsed:    0.0s remaining:    0.0s\n",
      "[Parallel(n_jobs=1)]: Done   1 out of   1 | elapsed:    0.0s finished\n",
      "\n",
      "[2023-04-06 17:25:34] Features: 13/13 -- score: 0.7158765419764792"
     ]
    },
    {
     "data": {
      "text/plain": [
       "['CRIM',\n",
       " 'ZN',\n",
       " 'CHAS',\n",
       " 'NOX',\n",
       " 'RM',\n",
       " 'DIS',\n",
       " 'RAD',\n",
       " 'TAX',\n",
       " 'PTRATIO',\n",
       " 'B',\n",
       " 'LSTAT']"
      ]
     },
     "execution_count": 71,
     "metadata": {},
     "output_type": "execute_result"
    }
   ],
   "source": [
    "# Forward\n",
    "lr = LinearRegression()\n",
    "lr_sfs =  sfs(estimator=lr, k_features='best', forward=True, verbose=2 )\n",
    "\n",
    "sfs_forward = lr_sfs.fit(X_train,y_train)\n",
    "forward_features = list(sfs_forward.k_feature_names_)\n",
    "forward_features"
   ]
  },
  {
   "cell_type": "code",
   "execution_count": 50,
   "id": "differential-cement",
   "metadata": {},
   "outputs": [
    {
     "name": "stderr",
     "output_type": "stream",
     "text": [
      "[Parallel(n_jobs=1)]: Using backend SequentialBackend with 1 concurrent workers.\n",
      "[Parallel(n_jobs=1)]: Done   1 out of   1 | elapsed:    0.0s remaining:    0.0s\n",
      "[Parallel(n_jobs=1)]: Done  13 out of  13 | elapsed:    0.0s finished\n",
      "\n",
      "[2023-04-05 14:40:38] Features: 12/1 -- score: 0.7203749681521989[Parallel(n_jobs=1)]: Using backend SequentialBackend with 1 concurrent workers.\n",
      "[Parallel(n_jobs=1)]: Done   1 out of   1 | elapsed:    0.0s remaining:    0.0s\n",
      "[Parallel(n_jobs=1)]: Done  12 out of  12 | elapsed:    0.0s finished\n",
      "\n",
      "[2023-04-05 14:40:38] Features: 11/1 -- score: 0.7230451718082934[Parallel(n_jobs=1)]: Using backend SequentialBackend with 1 concurrent workers.\n",
      "[Parallel(n_jobs=1)]: Done   1 out of   1 | elapsed:    0.0s remaining:    0.0s\n",
      "[Parallel(n_jobs=1)]: Done  11 out of  11 | elapsed:    0.0s finished\n",
      "\n",
      "[2023-04-05 14:40:39] Features: 10/1 -- score: 0.721346872112844[Parallel(n_jobs=1)]: Using backend SequentialBackend with 1 concurrent workers.\n",
      "[Parallel(n_jobs=1)]: Done   1 out of   1 | elapsed:    0.0s remaining:    0.0s\n",
      "[Parallel(n_jobs=1)]: Done  10 out of  10 | elapsed:    0.0s finished\n",
      "\n",
      "[2023-04-05 14:40:39] Features: 9/1 -- score: 0.7168235674903417[Parallel(n_jobs=1)]: Using backend SequentialBackend with 1 concurrent workers.\n",
      "[Parallel(n_jobs=1)]: Done   1 out of   1 | elapsed:    0.0s remaining:    0.0s\n",
      "[Parallel(n_jobs=1)]: Done   9 out of   9 | elapsed:    0.0s finished\n",
      "\n",
      "[2023-04-05 14:40:39] Features: 8/1 -- score: 0.7105508144565074[Parallel(n_jobs=1)]: Using backend SequentialBackend with 1 concurrent workers.\n",
      "[Parallel(n_jobs=1)]: Done   1 out of   1 | elapsed:    0.0s remaining:    0.0s\n",
      "[Parallel(n_jobs=1)]: Done   8 out of   8 | elapsed:    0.0s finished\n",
      "\n",
      "[2023-04-05 14:40:39] Features: 7/1 -- score: 0.7028470071953563[Parallel(n_jobs=1)]: Using backend SequentialBackend with 1 concurrent workers.\n",
      "[Parallel(n_jobs=1)]: Done   1 out of   1 | elapsed:    0.0s remaining:    0.0s\n",
      "[Parallel(n_jobs=1)]: Done   7 out of   7 | elapsed:    0.0s finished\n",
      "\n",
      "[2023-04-05 14:40:39] Features: 6/1 -- score: 0.702739833150663[Parallel(n_jobs=1)]: Using backend SequentialBackend with 1 concurrent workers.\n",
      "[Parallel(n_jobs=1)]: Done   1 out of   1 | elapsed:    0.0s remaining:    0.0s\n",
      "[Parallel(n_jobs=1)]: Done   6 out of   6 | elapsed:    0.0s finished\n",
      "\n",
      "[2023-04-05 14:40:39] Features: 5/1 -- score: 0.6947438214025989[Parallel(n_jobs=1)]: Using backend SequentialBackend with 1 concurrent workers.\n",
      "[Parallel(n_jobs=1)]: Done   1 out of   1 | elapsed:    0.0s remaining:    0.0s\n",
      "[Parallel(n_jobs=1)]: Done   5 out of   5 | elapsed:    0.0s finished\n",
      "\n",
      "[2023-04-05 14:40:39] Features: 4/1 -- score: 0.6738091110607625[Parallel(n_jobs=1)]: Using backend SequentialBackend with 1 concurrent workers.\n",
      "[Parallel(n_jobs=1)]: Done   1 out of   1 | elapsed:    0.0s remaining:    0.0s\n",
      "[Parallel(n_jobs=1)]: Done   4 out of   4 | elapsed:    0.0s finished\n",
      "\n",
      "[2023-04-05 14:40:39] Features: 3/1 -- score: 0.6706654496693151[Parallel(n_jobs=1)]: Using backend SequentialBackend with 1 concurrent workers.\n",
      "[Parallel(n_jobs=1)]: Done   1 out of   1 | elapsed:    0.0s remaining:    0.0s\n",
      "[Parallel(n_jobs=1)]: Done   3 out of   3 | elapsed:    0.0s finished\n",
      "\n",
      "[2023-04-05 14:40:39] Features: 2/1 -- score: 0.6241817903347533[Parallel(n_jobs=1)]: Using backend SequentialBackend with 1 concurrent workers.\n",
      "[Parallel(n_jobs=1)]: Done   1 out of   1 | elapsed:    0.0s remaining:    0.0s\n",
      "[Parallel(n_jobs=1)]: Done   2 out of   2 | elapsed:    0.0s finished\n",
      "\n",
      "[2023-04-05 14:40:39] Features: 1/1 -- score: 0.5261603029632435"
     ]
    },
    {
     "data": {
      "text/plain": [
       "['CRIM',\n",
       " 'ZN',\n",
       " 'CHAS',\n",
       " 'NOX',\n",
       " 'RM',\n",
       " 'DIS',\n",
       " 'RAD',\n",
       " 'TAX',\n",
       " 'PTRATIO',\n",
       " 'B',\n",
       " 'LSTAT']"
      ]
     },
     "execution_count": 50,
     "metadata": {},
     "output_type": "execute_result"
    }
   ],
   "source": [
    "lr = LinearRegression()    # best feature took me# best feature output\n",
    "lr_sfs =  sfs(estimator=lr, k_features='best', forward=False, verbose=2 )\n",
    "\n",
    "sfs_back = lr_sfs.fit(X_train,y_train)\n",
    "backward_features = list(sfs_back.k_feature_names_)\n",
    "backward_features"
   ]
  },
  {
   "cell_type": "code",
   "execution_count": 23,
   "id": "applicable-monitor",
   "metadata": {},
   "outputs": [],
   "source": [
    "#RFE     Recursive Feature Elimination"
   ]
  },
  {
   "cell_type": "code",
   "execution_count": 5,
   "id": "diverse-service",
   "metadata": {},
   "outputs": [],
   "source": [
    "from sklearn.feature_selection import RFE"
   ]
  },
  {
   "cell_type": "code",
   "execution_count": 25,
   "id": "fifty-partition",
   "metadata": {},
   "outputs": [
    {
     "data": {
      "text/plain": [
       "array([3, 5, 9, 1, 1, 1, 7, 1, 4, 6, 1, 8, 2])"
      ]
     },
     "execution_count": 25,
     "metadata": {},
     "output_type": "execute_result"
    }
   ],
   "source": [
    "lr = LinearRegression()\n",
    "lr_rfe =  RFE(estimator=lr, n_features_to_select=5)\n",
    "rfe_model = lr_rfe.fit(X_train,y_train)\n",
    "rfe_model.ranking_"
   ]
  },
  {
   "cell_type": "code",
   "execution_count": 26,
   "id": "central-summary",
   "metadata": {},
   "outputs": [
    {
     "data": {
      "text/plain": [
       "['CHAS', 'NOX', 'RM', 'DIS', 'PTRATIO']"
      ]
     },
     "execution_count": 26,
     "metadata": {},
     "output_type": "execute_result"
    }
   ],
   "source": [
    "rfe_rank = pd.DataFrame()\n",
    "rfe_rank['rank'] = rfe_model.ranking_\n",
    "rfe_rank['features'] = X_train.columns\n",
    "rfe_list = list(rfe_rank[rfe_rank['rank'] == 1]['features'])\n",
    "rfe_list"
   ]
  },
  {
   "cell_type": "code",
   "execution_count": null,
   "id": "municipal-termination",
   "metadata": {},
   "outputs": [],
   "source": []
  },
  {
   "cell_type": "code",
   "execution_count": 27,
   "id": "creative-virginia",
   "metadata": {},
   "outputs": [],
   "source": [
    "# Now run linear regression with selected columns"
   ]
  },
  {
   "cell_type": "code",
   "execution_count": 28,
   "id": "dominican-tattoo",
   "metadata": {},
   "outputs": [],
   "source": [
    "#Back model\n"
   ]
  },
  {
   "cell_type": "code",
   "execution_count": 29,
   "id": "finnish-conservation",
   "metadata": {},
   "outputs": [
    {
     "name": "stdout",
     "output_type": "stream",
     "text": [
      "Train R2  0.752434513097503\n",
      "Test R2   0.7081692908935964\n",
      "train RMSE  4.370653643087017\n",
      "test rmse  5.436732403284537\n"
     ]
    },
    {
     "data": {
      "text/plain": [
       "['Backward',\n",
       " 0.752434513097503,\n",
       " 0.7081692908935964,\n",
       " 4.370653643087017,\n",
       " 5.436732403284537]"
      ]
     },
     "execution_count": 29,
     "metadata": {},
     "output_type": "execute_result"
    }
   ],
   "source": [
    "lr = LinearRegression()\n",
    "lr.fit(X_train[backward_features], y_train)   # Only selected columns\n",
    "\n",
    "y_pred_train = lr.predict(X_train[backward_features]) # Only selected columns\n",
    "y_pred_test = lr.predict(X_test[backward_features]) # Only selected columns\n",
    "\n",
    "train_r2 = r2_score(y_train, y_pred_train)\n",
    "test_r2 = r2_score(y_test, y_pred_test)\n",
    "print('Train R2 ', train_r2)\n",
    "print('Test R2  ', test_r2)\n",
    "\n",
    "train_mse = mean_squared_error(y_train, y_pred_train)\n",
    "test_mse = mean_squared_error(y_test, y_pred_test)\n",
    "train_rmse = np.sqrt(train_mse)\n",
    "test_rmse = np.sqrt(test_mse)\n",
    "print(\"train RMSE \", train_rmse)\n",
    "print(\"test rmse \", test_rmse)\n",
    "\n",
    "result_back = ['Backward', train_r2, test_r2, train_rmse, test_rmse]   # Backward\n",
    "result_back"
   ]
  },
  {
   "cell_type": "code",
   "execution_count": null,
   "id": "hairy-reflection",
   "metadata": {},
   "outputs": [],
   "source": [
    "# Forward model\n"
   ]
  },
  {
   "cell_type": "code",
   "execution_count": 31,
   "id": "after-farmer",
   "metadata": {},
   "outputs": [
    {
     "name": "stdout",
     "output_type": "stream",
     "text": [
      "Train R2  0.752434513097503\n",
      "Test R2   0.7081692908935964\n",
      "train RMSE  4.370653643087017\n",
      "test rmse  5.436732403284537\n"
     ]
    },
    {
     "data": {
      "text/plain": [
       "['Forward',\n",
       " 0.752434513097503,\n",
       " 0.7081692908935964,\n",
       " 4.370653643087017,\n",
       " 5.436732403284537]"
      ]
     },
     "execution_count": 31,
     "metadata": {},
     "output_type": "execute_result"
    }
   ],
   "source": [
    "lr = LinearRegression()\n",
    "lr.fit(X_train[forward_features], y_train)   # Only selected columns\n",
    "\n",
    "y_pred_train = lr.predict(X_train[forward_features])  # Only selected columns\n",
    "y_pred_test = lr.predict(X_test[forward_features])    # Only selected columns\n",
    "\n",
    "train_r2 = r2_score(y_train, y_pred_train)\n",
    "test_r2 = r2_score(y_test, y_pred_test)\n",
    "print('Train R2 ', train_r2)\n",
    "print('Test R2  ', test_r2)\n",
    "\n",
    "train_mse = mean_squared_error(y_train, y_pred_train)\n",
    "test_mse = mean_squared_error(y_test, y_pred_test)\n",
    "train_rmse = np.sqrt(train_mse)\n",
    "test_rmse = np.sqrt(test_mse)\n",
    "print(\"train RMSE \", train_rmse)\n",
    "print(\"test rmse \", test_rmse)\n",
    "\n",
    "result_forward = ['Forward', train_r2, test_r2, train_rmse, test_rmse]   # Forward\n",
    "result_forward"
   ]
  },
  {
   "cell_type": "code",
   "execution_count": null,
   "id": "recreational-surgery",
   "metadata": {},
   "outputs": [],
   "source": [
    "# RFE "
   ]
  },
  {
   "cell_type": "code",
   "execution_count": 32,
   "id": "compact-drink",
   "metadata": {},
   "outputs": [
    {
     "name": "stdout",
     "output_type": "stream",
     "text": [
      "Train R2  0.6507796725615075\n",
      "Test R2   0.6003438527836649\n",
      "train RMSE  5.191000844769799\n",
      "test rmse  6.362322963894048\n"
     ]
    },
    {
     "data": {
      "text/plain": [
       "['RFE',\n",
       " 0.6507796725615075,\n",
       " 0.6003438527836649,\n",
       " 5.191000844769799,\n",
       " 6.362322963894048]"
      ]
     },
     "execution_count": 32,
     "metadata": {},
     "output_type": "execute_result"
    }
   ],
   "source": [
    "lr = LinearRegression()\n",
    "lr.fit(X_train[rfe_list], y_train)   # Only selected columns\n",
    "\n",
    "y_pred_train = lr.predict(X_train[rfe_list])  # Only selected columns\n",
    "y_pred_test = lr.predict(X_test[rfe_list])   # Only selected columns\n",
    "\n",
    "train_r2 = r2_score(y_train, y_pred_train)\n",
    "test_r2 = r2_score(y_test, y_pred_test)\n",
    "print('Train R2 ', train_r2)\n",
    "print('Test R2  ', test_r2)\n",
    "\n",
    "train_mse = mean_squared_error(y_train, y_pred_train)\n",
    "test_mse = mean_squared_error(y_test, y_pred_test)\n",
    "train_rmse = np.sqrt(train_mse)\n",
    "test_rmse = np.sqrt(test_mse)\n",
    "print(\"train RMSE \", train_rmse)\n",
    "print(\"test rmse \", test_rmse)\n",
    "\n",
    "result_rfe = ['RFE', train_r2, test_r2, train_rmse, test_rmse]   ##RFE\n",
    "result_rfe"
   ]
  },
  {
   "cell_type": "code",
   "execution_count": 33,
   "id": "greenhouse-domestic",
   "metadata": {},
   "outputs": [
    {
     "data": {
      "text/html": [
       "<div>\n",
       "<style scoped>\n",
       "    .dataframe tbody tr th:only-of-type {\n",
       "        vertical-align: middle;\n",
       "    }\n",
       "\n",
       "    .dataframe tbody tr th {\n",
       "        vertical-align: top;\n",
       "    }\n",
       "\n",
       "    .dataframe thead th {\n",
       "        text-align: right;\n",
       "    }\n",
       "</style>\n",
       "<table border=\"1\" class=\"dataframe\">\n",
       "  <thead>\n",
       "    <tr style=\"text-align: right;\">\n",
       "      <th></th>\n",
       "      <th>Method</th>\n",
       "      <th>Train R2</th>\n",
       "      <th>Test R2</th>\n",
       "      <th>Train RMSE</th>\n",
       "      <th>Test RMSE</th>\n",
       "    </tr>\n",
       "  </thead>\n",
       "  <tbody>\n",
       "    <tr>\n",
       "      <th>0</th>\n",
       "      <td>LR Full model</td>\n",
       "      <td>0.752891</td>\n",
       "      <td>0.705792</td>\n",
       "      <td>4.366622</td>\n",
       "      <td>5.458832</td>\n",
       "    </tr>\n",
       "    <tr>\n",
       "      <th>1</th>\n",
       "      <td>Backward</td>\n",
       "      <td>0.752435</td>\n",
       "      <td>0.708169</td>\n",
       "      <td>4.370654</td>\n",
       "      <td>5.436732</td>\n",
       "    </tr>\n",
       "    <tr>\n",
       "      <th>2</th>\n",
       "      <td>Forward</td>\n",
       "      <td>0.752435</td>\n",
       "      <td>0.708169</td>\n",
       "      <td>4.370654</td>\n",
       "      <td>5.436732</td>\n",
       "    </tr>\n",
       "    <tr>\n",
       "      <th>3</th>\n",
       "      <td>RFE</td>\n",
       "      <td>0.650780</td>\n",
       "      <td>0.600344</td>\n",
       "      <td>5.191001</td>\n",
       "      <td>6.362323</td>\n",
       "    </tr>\n",
       "  </tbody>\n",
       "</table>\n",
       "</div>"
      ],
      "text/plain": [
       "          Method  Train R2   Test R2  Train RMSE  Test RMSE\n",
       "0  LR Full model  0.752891  0.705792    4.366622   5.458832\n",
       "1       Backward  0.752435  0.708169    4.370654   5.436732\n",
       "2        Forward  0.752435  0.708169    4.370654   5.436732\n",
       "3            RFE  0.650780  0.600344    5.191001   6.362323"
      ]
     },
     "execution_count": 33,
     "metadata": {},
     "output_type": "execute_result"
    }
   ],
   "source": [
    "# gatheer results\n",
    "results_df = pd.DataFrame(columns=['Method', 'Train R2', 'Test R2', 'Train RMSE', 'Test RMSE'])\n",
    "results_df.loc[len(results_df)] = result_lr\n",
    "results_df.loc[len(results_df)] = result_back\n",
    "results_df.loc[len(results_df)] = result_forward\n",
    "results_df.loc[len(results_df)] = result_rfe\n",
    "results_df"
   ]
  },
  {
   "cell_type": "code",
   "execution_count": 35,
   "id": "returning-master",
   "metadata": {},
   "outputs": [
    {
     "data": {
      "text/html": [
       "<div>\n",
       "<style scoped>\n",
       "    .dataframe tbody tr th:only-of-type {\n",
       "        vertical-align: middle;\n",
       "    }\n",
       "\n",
       "    .dataframe tbody tr th {\n",
       "        vertical-align: top;\n",
       "    }\n",
       "\n",
       "    .dataframe thead th {\n",
       "        text-align: right;\n",
       "    }\n",
       "</style>\n",
       "<table border=\"1\" class=\"dataframe\">\n",
       "  <thead>\n",
       "    <tr style=\"text-align: right;\">\n",
       "      <th></th>\n",
       "      <th>Method</th>\n",
       "      <th>Train R2</th>\n",
       "      <th>Test R2</th>\n",
       "      <th>Train RMSE</th>\n",
       "      <th>Test RMSE</th>\n",
       "    </tr>\n",
       "  </thead>\n",
       "  <tbody>\n",
       "    <tr>\n",
       "      <th>1</th>\n",
       "      <td>Backward</td>\n",
       "      <td>0.752435</td>\n",
       "      <td>0.708169</td>\n",
       "      <td>4.370654</td>\n",
       "      <td>5.436732</td>\n",
       "    </tr>\n",
       "    <tr>\n",
       "      <th>2</th>\n",
       "      <td>Forward</td>\n",
       "      <td>0.752435</td>\n",
       "      <td>0.708169</td>\n",
       "      <td>4.370654</td>\n",
       "      <td>5.436732</td>\n",
       "    </tr>\n",
       "    <tr>\n",
       "      <th>0</th>\n",
       "      <td>LR Full model</td>\n",
       "      <td>0.752891</td>\n",
       "      <td>0.705792</td>\n",
       "      <td>4.366622</td>\n",
       "      <td>5.458832</td>\n",
       "    </tr>\n",
       "    <tr>\n",
       "      <th>3</th>\n",
       "      <td>RFE</td>\n",
       "      <td>0.650780</td>\n",
       "      <td>0.600344</td>\n",
       "      <td>5.191001</td>\n",
       "      <td>6.362323</td>\n",
       "    </tr>\n",
       "  </tbody>\n",
       "</table>\n",
       "</div>"
      ],
      "text/plain": [
       "          Method  Train R2   Test R2  Train RMSE  Test RMSE\n",
       "1       Backward  0.752435  0.708169    4.370654   5.436732\n",
       "2        Forward  0.752435  0.708169    4.370654   5.436732\n",
       "0  LR Full model  0.752891  0.705792    4.366622   5.458832\n",
       "3            RFE  0.650780  0.600344    5.191001   6.362323"
      ]
     },
     "execution_count": 35,
     "metadata": {},
     "output_type": "execute_result"
    }
   ],
   "source": [
    "results_df.sort_values('Test R2', ascending=False)"
   ]
  },
  {
   "cell_type": "code",
   "execution_count": null,
   "id": "frequent-sponsorship",
   "metadata": {},
   "outputs": [],
   "source": []
  },
  {
   "cell_type": "code",
   "execution_count": null,
   "id": "forced-manufacturer",
   "metadata": {},
   "outputs": [],
   "source": [
    "# To understand how \"K - Fold\" data split works\n",
    "# (to understand internal working of K-fold cross validation)"
   ]
  },
  {
   "cell_type": "code",
   "execution_count": 6,
   "id": "breathing-mainland",
   "metadata": {},
   "outputs": [],
   "source": [
    "from sklearn.model_selection import KFold"
   ]
  },
  {
   "cell_type": "code",
   "execution_count": 38,
   "id": "valuable-malpractice",
   "metadata": {},
   "outputs": [
    {
     "data": {
      "text/plain": [
       "[(array([2, 3, 4, 5, 6, 7, 8, 9]), array([0, 1])),\n",
       " (array([0, 1, 4, 5, 6, 7, 8, 9]), array([2, 3])),\n",
       " (array([0, 1, 2, 3, 6, 7, 8, 9]), array([4, 5])),\n",
       " (array([0, 1, 2, 3, 4, 5, 8, 9]), array([6, 7])),\n",
       " (array([0, 1, 2, 3, 4, 5, 6, 7]), array([8, 9]))]"
      ]
     },
     "execution_count": 38,
     "metadata": {},
     "output_type": "execute_result"
    }
   ],
   "source": [
    "temp_data = [30,31,32,33,34,35,36,37,38,39]\n",
    "kf = KFold(n_splits=5)\n",
    "list(kf.split(temp_data) )"
   ]
  },
  {
   "cell_type": "code",
   "execution_count": null,
   "id": "detailed-poland",
   "metadata": {},
   "outputs": [],
   "source": []
  },
  {
   "cell_type": "code",
   "execution_count": null,
   "id": "artistic-nowhere",
   "metadata": {},
   "outputs": [],
   "source": [
    "# Perform k-fold cross validation using manually coding "
   ]
  },
  {
   "cell_type": "code",
   "execution_count": 39,
   "id": "blessed-showcase",
   "metadata": {},
   "outputs": [],
   "source": [
    "kf = KFold(n_splits=5)\n"
   ]
  },
  {
   "cell_type": "code",
   "execution_count": 40,
   "id": "monetary-thought",
   "metadata": {},
   "outputs": [
    {
     "name": "stdout",
     "output_type": "stream",
     "text": [
      "R2 score  0.626395963002877\n",
      "R2 score  0.726944647311314\n",
      "R2 score  0.8244938890651446\n",
      "R2 score  0.7328369559586241\n",
      "R2 score  0.6687112545444382\n"
     ]
    }
   ],
   "source": [
    "# Note: In the below code 'test' is Validation. \n",
    "for train_index, test_index in kf.split(X_train, y_train):   # For each split perform the loop \n",
    "    X_train_k = X_train.iloc[train_index]  # using Train index, select the training records (80% data) from X_train\n",
    "    X_test_k  = X_train.iloc[test_index]   # using Train index, select the Validation records (20% data) from X_train\n",
    "    \n",
    "    y_train_k = y_train.iloc[train_index]\n",
    "    y_test_k  = y_train.iloc[test_index]\n",
    "    \n",
    "    lr_k = LinearRegression()\n",
    "    lr_k.fit(X_train_k, y_train_k)\n",
    "    y_pred_k = lr_k.predict(X_test_k)\n",
    "    r2_score_K = r2_score(y_test_k, y_pred_k)\n",
    "    print('R2 score ', r2_score_K )\n",
    "\n"
   ]
  },
  {
   "cell_type": "code",
   "execution_count": 41,
   "id": "integrated-default",
   "metadata": {},
   "outputs": [
    {
     "name": "stdout",
     "output_type": "stream",
     "text": [
      "Cross-validated scores: [0.62639596 0.72694465 0.82449389 0.73283696 0.66871125]\n",
      "Average score: 0.7158765419764797\n"
     ]
    }
   ],
   "source": [
    "# Using cross_val_score function to perform K-fold cross validation\n",
    "\n",
    "from sklearn.model_selection import cross_val_score\n",
    "\n",
    "scores = cross_val_score(lr, X_train, y_train, cv=5, scoring='r2')\n",
    "print(\"Cross-validated scores:\", scores )\n",
    "print(\"Average score:\" , np.average(scores))"
   ]
  },
  {
   "cell_type": "code",
   "execution_count": 44,
   "id": "cooperative-monitoring",
   "metadata": {},
   "outputs": [
    {
     "data": {
      "text/plain": [
       "0.7057919873264542"
      ]
     },
     "execution_count": 44,
     "metadata": {},
     "output_type": "execute_result"
    }
   ],
   "source": [
    "lr.fit(X_train, y_train)\n",
    "\n",
    "\n",
    "lr.score(X_test, y_test)"
   ]
  },
  {
   "cell_type": "code",
   "execution_count": null,
   "id": "ordinary-vegetation",
   "metadata": {},
   "outputs": [],
   "source": []
  },
  {
   "cell_type": "markdown",
   "id": "written-reflection",
   "metadata": {},
   "source": [
    "##### LOOCV"
   ]
  },
  {
   "cell_type": "code",
   "execution_count": 7,
   "id": "brave-answer",
   "metadata": {},
   "outputs": [],
   "source": [
    "from sklearn.model_selection import LeaveOneOut"
   ]
  },
  {
   "cell_type": "code",
   "execution_count": 47,
   "id": "intelligent-sacramento",
   "metadata": {},
   "outputs": [],
   "source": [
    "loocv = LeaveOneOut()"
   ]
  },
  {
   "cell_type": "code",
   "execution_count": 48,
   "id": "least-patrol",
   "metadata": {},
   "outputs": [
    {
     "name": "stdout",
     "output_type": "stream",
     "text": [
      "[1.6807157524205678, 2.1388933273786606, 4.2646917399388915, 5.769632824475771, 1.0694538297129519, 5.953962797805428, 3.8615356452914646, 0.17650620698807273, 1.5826031308405781, 0.09211104521802582, 2.068571796811181, 3.659133414221092, 9.972600831049064, 3.588380780530425, 7.236475115030018, 2.252380191718043, 4.349711157190285, 1.0718007208568032, 0.7356827961499555, 5.226729013355126, 2.8608281993711238, 1.2484236020445394, 0.11020983085386149, 1.8328583635786373, 3.796355128847054, 2.114669746514455, 2.4063009342821573, 3.2081439977312485, 6.897209677229615, 0.4807499197400489, 1.6945131301235996, 6.109262100356791, 1.9752748694754239, 0.37818619404527, 0.8757945931065727, 3.7058174069928107, 4.744185439836862, 2.4071045294769604, 2.3928821006306222, 3.085788535878315, 12.172209209997707, 2.435455545156586, 0.8979615874352795, 2.556687782355789, 4.152164600015725, 7.4981051168159, 18.59157311488472, 2.4172134641901195, 2.7253876366459835, 4.481303140984469, 0.4070345226951595, 4.9003669302799295, 4.036154585456963, 1.04473247967627, 0.40265835735884536, 3.507191240941159, 0.6836233902417241, 1.1570054836562882, 4.499589653445888, 3.6375309445542428, 1.0502467347413145, 2.5890050378120257, 0.6762828062236981, 0.10494545801990007, 5.131443100647278, 2.001602147739227, 1.326205880728665, 4.022053133721343, 10.58478877629136, 1.5617818468594606, 0.7976326604827406, 6.611334818888366, 9.056624001803382, 5.071091727694856, 15.479817548601439, 0.6441739708434753, 0.5535629952047572, 3.1096260221346057, 0.8326724513322681, 1.2640961410831224, 1.247012865816643, 15.193285398330246, 3.5147406432289365, 3.5657944648356903, 4.3444326486341875, 0.8327629712888935, 1.40673922608201, 4.8630690143076905, 3.6683704745901853, 0.08829585429880993, 7.576280141031894, 0.14461626424337481, 0.399129947349536, 2.507842417714894, 12.224016479933624, 4.823911901284571, 2.050669242280172, 1.7532527175858306, 4.661897995405113, 6.873307549137184, 5.788215140423265, 6.375801855866257, 0.20340126218208, 0.3874008278915575, 3.5855987272443812, 8.37118339098312, 0.6102823141498703, 0.7971011997768294, 3.5775127249129905, 6.307959375627897, 10.411524184666852, 2.1750729161597704, 5.390089033559509, 5.34277711509873, 3.2236002714510796, 3.503807495849049, 0.17100945845098536, 0.5615238496167372, 0.21344853480964332, 4.844370945943503, 0.3850428026669057, 1.950818296086144, 1.0942617681098952, 0.9716024807794881, 4.7042649642966445, 1.6308836940195874, 2.7589864122290564, 1.309196246298061, 0.9183193094332331, 12.004620432289954, 4.126373967424286, 0.7328508624934926, 2.7963692897162904, 6.9079998914663445, 0.11810657319116302, 1.9450687754543985, 0.655518677095781, 1.8243269110412292, 4.243126755167843, 3.3381344473584207, 0.2901682748824399, 1.876188027692855, 0.20869875425855788, 2.1666501657651054, 3.6570762628179807, 2.3400536843397948, 2.2295422455517766, 2.2341495035992054, 2.223600954592772, 1.8590492731398989, 4.6086728823119145, 3.588859416938721, 0.9769826163221751, 4.148350690077084, 1.3876364008389004, 2.8664028462178095, 4.371319569868158, 0.07850939364897869, 2.0365875075991227, 1.4131885342227193, 2.527430135981419, 1.5103920971180393, 1.075870440599168, 1.2438055059879662, 4.753707549863403, 0.4774680019383446, 1.2926671698923755, 7.546821642357173, 2.6357036276193853, 3.730142091426874, 7.106563807283193, 0.1355937930335891, 16.84558976631749, 0.46766449706609947, 2.766926582806148, 0.06969825435574073, 1.3305797681125533, 0.8014907903525312, 0.9396208571994045, 0.4932694089364791, 1.9158594412724206, 6.597999767089515, 0.8340317211570287, 0.6123652808938811, 2.0099213518732206, 2.194604192231022, 3.0689338211816093, 0.7336016900689444, 1.1147010716174819, 2.5235427487691453, 4.84708872469065, 4.638430465673103, 0.7885886294585198, 2.847485005077573, 0.737475660215793, 2.209259214117491, 2.051907807005037, 5.596744587892694, 4.577934604262364, 0.9428055173446435, 3.0783697732836544, 0.9398442140551708, 0.8538468003858561, 1.9213330503564663, 0.9427664215606626, 6.207808777310593, 0.861666863293717, 0.3094011426141883, 6.117383058225581, 0.03191571420667216, 2.249649213131754, 3.881980429630289, 1.8642743205595629, 6.702220447512325, 2.3311436802172416, 3.7457145248937493, 0.9500419523744732, 0.3095942614488365, 4.101782362593131, 4.463472668505148, 0.18050622338322597, 0.4210967077456118, 14.73321110017843, 1.96188552634597, 0.29233856572177075, 0.7895769662466101, 0.522101722298892, 8.639784022173075, 1.332212974929618, 0.438325751474558, 13.762202985108068, 1.5749983849483655, 2.0763434019842677, 3.156258059027955, 2.1833485340203467, 2.2221222692526243, 0.11671963977558164, 7.829347538431122, 0.41128646700780536, 1.4076671418199673, 2.0674179757715088, 2.3553040126687748, 1.4890275868798888, 0.6250383226839347, 6.2069721401028275, 0.1762475853225709, 3.1354627452036823, 4.86443048392265, 5.700558436460067, 5.929719559437363, 11.67677406418505, 1.3637543588667356, 2.2783589979273913, 6.449799264458427, 2.4692022920549554, 2.50773126859918, 5.5656953147857, 2.657820753600653, 1.1814016650868915, 6.417638848468627, 0.4011243797601054, 0.29828499998307123, 4.225932090433346, 0.7986144899211567, 0.3143444991538171, 1.0928341536807622, 0.571985961257667, 3.340790989900409, 4.578344585342265, 0.10919605096192342, 5.825746134659369, 1.4416528838459257, 4.253749099957936, 1.8807136790144767, 0.2992477574117878, 3.456444087796754, 0.19209022426286992, 0.35991948580840827, 2.234135061342812, 0.7127328885134077, 1.7475214073163592, 0.006997065022055438, 6.25144288446613, 1.7542021658977198, 4.298038523598983, 3.2095229636556937, 0.17460266522451207, 2.719215198500823, 16.649681539685165, 1.3113445563914112, 0.7470961531142919, 1.2364963788274679, 10.300966400014829, 20.65730306542306, 4.6466579674268225, 3.7113876982005145, 6.682786961286077, 8.598670629169753, 2.2658663784501627, 5.376309302234585, 1.1120980152793294, 7.180878616846606, 4.619853179057554, 1.2681326439986087, 0.15332422421640857, 1.4148603474397579, 2.24000523366443, 1.6248256483140153, 0.9305842659535024, 0.7646797336967168, 4.031102303339958, 1.6213311867317302, 0.8659459103428304, 3.3510825985441244, 2.9061150833524945, 5.228649057101212, 8.417840825731645, 3.4152677356537495, 1.6927539477876898, 4.832663045525592, 9.61629000990907, 2.1225974200355493, 3.119417376480821, 2.7891867717112966, 16.077010553513823, 5.95083417183138, 3.3445038175272543, 0.1125086428168558, 3.7550814521464844, 2.1069128350490445, 7.666609972669187, 1.4047475732393266, 0.37763891673261085, 3.437349795384584, 11.886331826265668, 1.7393003944216456, 3.8643983034555234, 5.253063100607736, 4.383954426750719, 1.0993103972748415, 1.0725832004478804, 5.958420878714314, 0.9714777543637645, 4.01061568634357, 5.038004306278117, 2.5988271892438632, 5.231557295693204, 4.356736538385771, 1.8223878234870057, 3.3472943867688905, 3.6185628532986556, 1.008448752220506, 7.591155395088045, 3.9977653692568182]\n"
     ]
    }
   ],
   "source": [
    "rmse_loocv = []\n",
    "\n",
    "for train_index, test_index in loocv.split(X_train, y_train):\n",
    "    X_train_k = X_train.iloc[train_index]\n",
    "    X_test_k  = X_train.iloc[test_index]\n",
    "    \n",
    "    y_train_k = y_train.iloc[train_index]\n",
    "    y_test_k  = y_train.iloc[test_index]\n",
    "    \n",
    "    lr_k = LinearRegression()\n",
    "    lr_k.fit(X_train_k, y_train_k)\n",
    "    y_pred_k = lr_k.predict(X_test_k)\n",
    "    rmse_K = np.sqrt(mean_squared_error(y_test_k, y_pred_k) )\n",
    "    #print('RMSE ', rmse_K )\n",
    "    rmse_loocv.append(rmse_K)\n",
    "\n",
    "print(rmse_loocv)\n",
    "\n"
   ]
  },
  {
   "cell_type": "code",
   "execution_count": null,
   "id": "catholic-belize",
   "metadata": {},
   "outputs": [],
   "source": []
  },
  {
   "cell_type": "code",
   "execution_count": null,
   "id": "accompanied-fancy",
   "metadata": {},
   "outputs": [],
   "source": []
  }
 ],
 "metadata": {
  "kernelspec": {
   "display_name": "Python 3 (ipykernel)",
   "language": "python",
   "name": "python3"
  },
  "language_info": {
   "codemirror_mode": {
    "name": "ipython",
    "version": 3
   },
   "file_extension": ".py",
   "mimetype": "text/x-python",
   "name": "python",
   "nbconvert_exporter": "python",
   "pygments_lexer": "ipython3",
   "version": "3.10.9"
  }
 },
 "nbformat": 4,
 "nbformat_minor": 5
}
