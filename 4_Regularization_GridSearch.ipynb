{
 "cells": [
  {
   "cell_type": "code",
   "execution_count": 2,
   "id": "explicit-drive",
   "metadata": {},
   "outputs": [],
   "source": [
    "import numpy as np\n",
    "import pandas as pd\n",
    "from matplotlib import pyplot as plt\n",
    "import seaborn as sns\n",
    "\n",
    "from sklearn.preprocessing import StandardScaler"
   ]
  },
  {
   "cell_type": "code",
   "execution_count": 6,
   "id": "enhanced-treatment",
   "metadata": {},
   "outputs": [
    {
     "data": {
      "text/html": [
       "<div>\n",
       "<style scoped>\n",
       "    .dataframe tbody tr th:only-of-type {\n",
       "        vertical-align: middle;\n",
       "    }\n",
       "\n",
       "    .dataframe tbody tr th {\n",
       "        vertical-align: top;\n",
       "    }\n",
       "\n",
       "    .dataframe thead th {\n",
       "        text-align: right;\n",
       "    }\n",
       "</style>\n",
       "<table border=\"1\" class=\"dataframe\">\n",
       "  <thead>\n",
       "    <tr style=\"text-align: right;\">\n",
       "      <th></th>\n",
       "      <th>DATE</th>\n",
       "      <th>HOUSTNSA</th>\n",
       "    </tr>\n",
       "  </thead>\n",
       "  <tbody>\n",
       "    <tr>\n",
       "      <th>0</th>\n",
       "      <td>01-01-1959</td>\n",
       "      <td>96.2</td>\n",
       "    </tr>\n",
       "    <tr>\n",
       "      <th>1</th>\n",
       "      <td>01-02-1959</td>\n",
       "      <td>99.0</td>\n",
       "    </tr>\n",
       "    <tr>\n",
       "      <th>2</th>\n",
       "      <td>01-03-1959</td>\n",
       "      <td>127.7</td>\n",
       "    </tr>\n",
       "    <tr>\n",
       "      <th>3</th>\n",
       "      <td>01-04-1959</td>\n",
       "      <td>150.8</td>\n",
       "    </tr>\n",
       "    <tr>\n",
       "      <th>4</th>\n",
       "      <td>01-05-1959</td>\n",
       "      <td>152.5</td>\n",
       "    </tr>\n",
       "  </tbody>\n",
       "</table>\n",
       "</div>"
      ],
      "text/plain": [
       "         DATE  HOUSTNSA\n",
       "0  01-01-1959      96.2\n",
       "1  01-02-1959      99.0\n",
       "2  01-03-1959     127.7\n",
       "3  01-04-1959     150.8\n",
       "4  01-05-1959     152.5"
      ]
     },
     "execution_count": 6,
     "metadata": {},
     "output_type": "execute_result"
    }
   ],
   "source": [
    "df_housing = pd.read_csv('housing-data.csv')\n",
    "df_housing.head()"
   ]
  },
  {
   "cell_type": "code",
   "execution_count": null,
   "id": "5c252fab",
   "metadata": {},
   "outputs": [],
   "source": [
    "df_housing.columns"
   ]
  },
  {
   "cell_type": "code",
   "execution_count": null,
   "id": "a97ec952",
   "metadata": {},
   "outputs": [],
   "source": [
    "# To scale numeric features, select numeric feaures\n",
    "df_housing_numeric = df_housing[['CRIM', 'ZN', 'INDUS', 'NOX', 'RM', 'AGE', 'DIS', 'RAD', 'TAX', 'PTRATIO', 'B', 'LSTAT']]"
   ]
  },
  {
   "cell_type": "code",
   "execution_count": null,
   "id": "e4443a43",
   "metadata": {},
   "outputs": [],
   "source": [
    "# Scale the numeric feaures and convert to DataFrame\n",
    "X_scaler = StandardScaler()\n",
    "num_scaled = X_scaler.fit_transform(df_housing_numeric)\n",
    "df_num_scaled = pd.DataFrame(num_scaled, columns = df_housing_numeric.columns)\n",
    "df_num_scaled.head()"
   ]
  },
  {
   "cell_type": "code",
   "execution_count": null,
   "id": "parliamentary-employment",
   "metadata": {},
   "outputs": [],
   "source": [
    "X = pd.concat([df_num_scaled, df_housing['CHAS']], axis = 1)\n",
    "y = df_housing['PRICE']"
   ]
  },
  {
   "cell_type": "code",
   "execution_count": null,
   "id": "valued-arrangement",
   "metadata": {},
   "outputs": [],
   "source": [
    "from sklearn.model_selection import train_test_split\n",
    "X_train, X_test, y_train, y_test = train_test_split(X,y, test_size=0.3, random_state=0)"
   ]
  },
  {
   "cell_type": "code",
   "execution_count": null,
   "id": "changed-separation",
   "metadata": {},
   "outputs": [],
   "source": [
    "from sklearn.linear_model import LinearRegression, Ridge, Lasso, ElasticNet\n",
    "from sklearn.metrics import mean_squared_error, r2_score"
   ]
  },
  {
   "cell_type": "code",
   "execution_count": null,
   "id": "together-beaver",
   "metadata": {},
   "outputs": [],
   "source": [
    "lr = LinearRegression()\n",
    "lr.fit(X_train, y_train)\n",
    "\n",
    "y_pred_train = lr.predict(X_train)\n",
    "y_pred_test = lr.predict(X_test)\n",
    "\n",
    "train_r2 = r2_score(y_train, y_pred_train)\n",
    "test_r2 = r2_score(y_test, y_pred_test)\n",
    "print('Train R2 ', train_r2)\n",
    "print('Test R2  ', test_r2)"
   ]
  },
  {
   "cell_type": "markdown",
   "id": "secret-guard",
   "metadata": {},
   "source": [
    "## Regularization"
   ]
  },
  {
   "cell_type": "markdown",
   "id": "bigger-natural",
   "metadata": {},
   "source": [
    "### Ridge"
   ]
  },
  {
   "cell_type": "code",
   "execution_count": null,
   "id": "competitive-jacksonville",
   "metadata": {},
   "outputs": [],
   "source": [
    "# Build and evaluate Ridge model\n",
    "ridge_model = Ridge(alpha=15)\n",
    "ridge_model.fit(X_train, y_train)\n",
    "\n",
    "y_pred_train = ridge_model.predict(X_train)\n",
    "y_pred_test = ridge_model.predict(X_test)\n",
    "\n",
    "train_r2 = r2_score(y_train, y_pred_train)\n",
    "test_r2 = r2_score(y_test, y_pred_test)\n",
    "print('Train R2 ', train_r2)\n",
    "print('Test R2  ', test_r2)\n"
   ]
  },
  {
   "cell_type": "code",
   "execution_count": null,
   "id": "1dd38419",
   "metadata": {},
   "outputs": [],
   "source": [
    "lr.coef_"
   ]
  },
  {
   "cell_type": "code",
   "execution_count": null,
   "id": "0d772833",
   "metadata": {},
   "outputs": [],
   "source": [
    "ridge_model.coef_"
   ]
  },
  {
   "cell_type": "code",
   "execution_count": null,
   "id": "extra-income",
   "metadata": {},
   "outputs": [],
   "source": [
    "# Build and evaluate Lasso model\n",
    "\n",
    "lasso_model = Lasso(alpha=0.5)\n",
    "lasso_model.fit(X_train, y_train)\n",
    "\n",
    "y_pred_train = lasso_model.predict(X_train)\n",
    "y_pred_test = lasso_model.predict(X_test)\n",
    "\n",
    "train_r2 = r2_score(y_train, y_pred_train)\n",
    "test_r2 = r2_score(y_test, y_pred_test)\n",
    "print('Train R2 ', train_r2)\n",
    "print('Test R2  ', test_r2)\n"
   ]
  },
  {
   "cell_type": "code",
   "execution_count": null,
   "id": "13a9584e",
   "metadata": {},
   "outputs": [],
   "source": [
    "lasso_model.coef_"
   ]
  },
  {
   "cell_type": "code",
   "execution_count": null,
   "id": "monthly-aurora",
   "metadata": {},
   "outputs": [],
   "source": [
    "# Build and evaluate ElasticNet  model\n",
    "en_model = ElasticNet(alpha=1, l1_ratio = 0.5)\n",
    "en_model.fit(X_train, y_train)\n",
    "\n",
    "y_pred_train = en_model.predict(X_train)\n",
    "y_pred_test = en_model.predict(X_test)\n",
    "\n",
    "train_r2 = r2_score(y_train, y_pred_train)\n",
    "test_r2 = r2_score(y_test, y_pred_test)\n",
    "print('Train R2 ', train_r2)\n",
    "print('Test R2  ', test_r2)"
   ]
  },
  {
   "cell_type": "code",
   "execution_count": null,
   "id": "liable-alfred",
   "metadata": {},
   "outputs": [],
   "source": []
  },
  {
   "cell_type": "markdown",
   "id": "behavioral-progressive",
   "metadata": {},
   "source": [
    "## Grid Search"
   ]
  },
  {
   "cell_type": "code",
   "execution_count": null,
   "id": "aerial-appreciation",
   "metadata": {},
   "outputs": [],
   "source": [
    "from sklearn.model_selection import GridSearchCV"
   ]
  },
  {
   "cell_type": "code",
   "execution_count": null,
   "id": "unauthorized-german",
   "metadata": {},
   "outputs": [],
   "source": [
    "# Grid Search - Ridge\n",
    "param = {'alpha':[0.01,0.1, 1, 10, 20, 30]}\n",
    "\n",
    "model = Ridge()\n",
    "\n",
    "grid_cv = GridSearchCV(estimator=model, param_grid= param, cv=5, \n",
    "                       scoring='r2')\n",
    "grid_cv.fit(X_train, y_train)\n",
    "grid_cv.best_params_\n"
   ]
  },
  {
   "cell_type": "code",
   "execution_count": null,
   "id": "bridal-aaron",
   "metadata": {},
   "outputs": [],
   "source": [
    "# Lasso\n",
    "param = {'alpha':[ 0.001, 0.01,  0.1, 1]}\n",
    "\n",
    "model = Lasso()\n",
    "\n",
    "grid_cv = GridSearchCV(estimator=model, param_grid= param, cv=5, scoring='r2' )\n",
    "grid_cv.fit(X_train, y_train)\n",
    "grid_cv.best_params_\n"
   ]
  },
  {
   "cell_type": "code",
   "execution_count": null,
   "id": "located-shame",
   "metadata": {},
   "outputs": [],
   "source": [
    "# ElasticNet\n",
    "param = {'alpha':[ 0.01, 0.1, 0.3, 0.5],\n",
    "         'l1_ratio': [0.3, 0.5, 0.7, 0.9]}\n",
    "\n",
    "algo_name = ElasticNet()\n",
    "\n",
    "grid_cv = GridSearchCV(estimator=algo_name, param_grid= param, cv=5, scoring='r2' )\n",
    "grid_cv.fit(X_train, y_train)\n",
    "grid_cv.best_params_"
   ]
  },
  {
   "cell_type": "code",
   "execution_count": null,
   "id": "powered-newton",
   "metadata": {},
   "outputs": [],
   "source": []
  },
  {
   "cell_type": "code",
   "execution_count": null,
   "id": "every-reward",
   "metadata": {},
   "outputs": [],
   "source": []
  },
  {
   "cell_type": "code",
   "execution_count": null,
   "id": "coated-category",
   "metadata": {},
   "outputs": [],
   "source": []
  },
  {
   "cell_type": "code",
   "execution_count": null,
   "id": "accompanied-fancy",
   "metadata": {},
   "outputs": [],
   "source": []
  }
 ],
 "metadata": {
  "kernelspec": {
   "display_name": "Python 3 (ipykernel)",
   "language": "python",
   "name": "python3"
  },
  "language_info": {
   "codemirror_mode": {
    "name": "ipython",
    "version": 3
   },
   "file_extension": ".py",
   "mimetype": "text/x-python",
   "name": "python",
   "nbconvert_exporter": "python",
   "pygments_lexer": "ipython3",
   "version": "3.10.9"
  }
 },
 "nbformat": 4,
 "nbformat_minor": 5
}
